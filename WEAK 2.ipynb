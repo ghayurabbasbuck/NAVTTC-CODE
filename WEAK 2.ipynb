{
 "cells": [
  {
   "cell_type": "markdown",
   "id": "188c87d9",
   "metadata": {},
   "source": [
    "# DAY 1"
   ]
  },
  {
   "cell_type": "markdown",
   "id": "bd1a9715",
   "metadata": {},
   "source": [
    "# LIST"
   ]
  },
  {
   "cell_type": "code",
   "execution_count": 1,
   "id": "4543bd2c",
   "metadata": {},
   "outputs": [
    {
     "name": "stdout",
     "output_type": "stream",
     "text": [
      "[95, 98, 99]\n"
     ]
    }
   ],
   "source": [
    "marks = [95,98,99]\n",
    "print(marks)"
   ]
  },
  {
   "cell_type": "code",
   "execution_count": 2,
   "id": "06f85c1d",
   "metadata": {},
   "outputs": [
    {
     "name": "stdout",
     "output_type": "stream",
     "text": [
      "[95, 98, 99, 'math']\n"
     ]
    }
   ],
   "source": [
    "marks = [95,98,99,\"math\"]\n",
    "print(marks)"
   ]
  },
  {
   "cell_type": "code",
   "execution_count": 3,
   "id": "565bc1fc",
   "metadata": {},
   "outputs": [
    {
     "name": "stdout",
     "output_type": "stream",
     "text": [
      "95\n",
      "math\n"
     ]
    }
   ],
   "source": [
    "print(marks[0])\n",
    "print(marks[-1])"
   ]
  },
  {
   "cell_type": "code",
   "execution_count": 9,
   "id": "93ca4f14",
   "metadata": {},
   "outputs": [
    {
     "name": "stdout",
     "output_type": "stream",
     "text": [
      "[95, 98]\n",
      "[95, 98, 99]\n",
      "[98, 99, 'math']\n",
      "[95, 98, 99, 'math']\n"
     ]
    }
   ],
   "source": [
    "print(marks[0:2])\n",
    "print(marks[:3])\n",
    "print(marks[1:])\n",
    "print(marks[:])"
   ]
  },
  {
   "cell_type": "code",
   "execution_count": 10,
   "id": "da8425dd",
   "metadata": {},
   "outputs": [
    {
     "name": "stdout",
     "output_type": "stream",
     "text": [
      "95\n",
      "98\n",
      "99\n",
      "math\n"
     ]
    }
   ],
   "source": [
    "for i in marks:\n",
    "    print(i)"
   ]
  },
  {
   "cell_type": "code",
   "execution_count": 11,
   "id": "4138f864",
   "metadata": {},
   "outputs": [
    {
     "name": "stdout",
     "output_type": "stream",
     "text": [
      "[95, 98, 99, 'math', 'english']\n"
     ]
    }
   ],
   "source": [
    "marks.append(\"english\")\n",
    "print(marks)"
   ]
  },
  {
   "cell_type": "code",
   "execution_count": 12,
   "id": "8b92f5c1",
   "metadata": {},
   "outputs": [
    {
     "name": "stdout",
     "output_type": "stream",
     "text": [
      "[95, 'urdu', 98, 99, 'math', 'english']\n"
     ]
    }
   ],
   "source": [
    "marks.insert(1,\"urdu\")\n",
    "print(marks)"
   ]
  },
  {
   "cell_type": "code",
   "execution_count": 55,
   "id": "83cf8b34",
   "metadata": {},
   "outputs": [
    {
     "name": "stdout",
     "output_type": "stream",
     "text": [
      "['ghayur', 'qayyum', 'hubdar', 18, 14, 8]\n"
     ]
    }
   ],
   "source": [
    "name = [\"ghayur\",\"qayyum\",\"hubdar\"]\n",
    "age = [18,14,8]\n",
    "num = [1,2,3]\n",
    "name.extend(age)\n",
    "print(name)"
   ]
  },
  {
   "cell_type": "code",
   "execution_count": 16,
   "id": "fbbf6ffa",
   "metadata": {},
   "outputs": [
    {
     "name": "stdout",
     "output_type": "stream",
     "text": [
      "['ghayur', 'qayyum', 'hubdar', 18, 14]\n"
     ]
    }
   ],
   "source": [
    "name.pop()\n",
    "print(name)"
   ]
  },
  {
   "cell_type": "code",
   "execution_count": 20,
   "id": "80f9d60b",
   "metadata": {},
   "outputs": [
    {
     "name": "stdout",
     "output_type": "stream",
     "text": [
      "['ghayur', 'qayyum', 18, 14]\n"
     ]
    }
   ],
   "source": [
    "del name[2]\n",
    "print(name)"
   ]
  },
  {
   "cell_type": "code",
   "execution_count": 21,
   "id": "e864d121",
   "metadata": {},
   "outputs": [
    {
     "name": "stdout",
     "output_type": "stream",
     "text": [
      "['ghayur', 'hubdar', 18, 14]\n"
     ]
    }
   ],
   "source": [
    "name[1]=\"hubdar\"\n",
    "print(name)"
   ]
  },
  {
   "cell_type": "code",
   "execution_count": 22,
   "id": "0a1dad83",
   "metadata": {},
   "outputs": [
    {
     "name": "stdout",
     "output_type": "stream",
     "text": [
      "['ghayur', 'hubdar', 18]\n"
     ]
    }
   ],
   "source": [
    "del name[-1]\n",
    "print(name)"
   ]
  },
  {
   "cell_type": "code",
   "execution_count": 25,
   "id": "d7834524",
   "metadata": {},
   "outputs": [
    {
     "name": "stdout",
     "output_type": "stream",
     "text": [
      "True\n"
     ]
    }
   ],
   "source": [
    "print(18 in name)\n"
   ]
  },
  {
   "cell_type": "code",
   "execution_count": 27,
   "id": "36fa22be",
   "metadata": {},
   "outputs": [
    {
     "name": "stdout",
     "output_type": "stream",
     "text": [
      "3\n"
     ]
    }
   ],
   "source": [
    "print(len(name))"
   ]
  },
  {
   "cell_type": "code",
   "execution_count": 28,
   "id": "85b75894",
   "metadata": {},
   "outputs": [
    {
     "name": "stdout",
     "output_type": "stream",
     "text": [
      "[]\n"
     ]
    }
   ],
   "source": [
    "name.clear()\n",
    "print(name)"
   ]
  },
  {
   "cell_type": "code",
   "execution_count": 29,
   "id": "b1f4d47e",
   "metadata": {},
   "outputs": [
    {
     "name": "stdout",
     "output_type": "stream",
     "text": [
      "[]\n"
     ]
    }
   ],
   "source": [
    "print(name)"
   ]
  },
  {
   "cell_type": "code",
   "execution_count": 3,
   "id": "473ccdc4",
   "metadata": {},
   "outputs": [
    {
     "name": "stdout",
     "output_type": "stream",
     "text": [
      "ghayur\n",
      "qayyum\n"
     ]
    }
   ],
   "source": [
    "name = [\"ghayur\",\"qayyum\",\"hubdar\"]\n",
    "for i in name:\n",
    "    if i ==\"hubdar\":\n",
    "        break;\n",
    "    print(i)"
   ]
  },
  {
   "cell_type": "code",
   "execution_count": 5,
   "id": "65a7e989",
   "metadata": {},
   "outputs": [
    {
     "name": "stdout",
     "output_type": "stream",
     "text": [
      "18\n",
      "8\n"
     ]
    }
   ],
   "source": [
    "age = [18,14,8]\n",
    "for a in age:\n",
    "    if a==14:\n",
    "        continue; \n",
    "    print(a)"
   ]
  },
  {
   "cell_type": "code",
   "execution_count": 10,
   "id": "80bcef5b",
   "metadata": {},
   "outputs": [
    {
     "name": "stdout",
     "output_type": "stream",
     "text": [
      "['ghayur', 'ali', 'qayyum']\n"
     ]
    }
   ],
   "source": [
    "name = [\"ghayur\",\"ali\",\"qayyum\",\"hubdar\"]\n",
    "name.remove(\"hubdar\")\n",
    "print(name)"
   ]
  },
  {
   "cell_type": "code",
   "execution_count": 9,
   "id": "d862968b",
   "metadata": {},
   "outputs": [
    {
     "name": "stdout",
     "output_type": "stream",
     "text": [
      "['ali', 'ghayur', 'qayyum']\n"
     ]
    }
   ],
   "source": [
    "name.sort()\n",
    "print(name)"
   ]
  },
  {
   "cell_type": "code",
   "execution_count": 65,
   "id": "4b98ac2e",
   "metadata": {},
   "outputs": [
    {
     "name": "stdout",
     "output_type": "stream",
     "text": [
      "[5, 4, 3, 2, 1]\n"
     ]
    }
   ],
   "source": [
    "num = [1,2,3,4,5]\n",
    "num.sort(reverse = True)\n",
    "print(num)"
   ]
  },
  {
   "cell_type": "code",
   "execution_count": 68,
   "id": "5058dd55",
   "metadata": {},
   "outputs": [
    {
     "name": "stdout",
     "output_type": "stream",
     "text": [
      "[3, 4, 5, 6, 7, 33]\n"
     ]
    }
   ],
   "source": [
    "num = [7,6,5,4,33,3]\n",
    "num.sort()\n",
    "print(num)"
   ]
  },
  {
   "cell_type": "markdown",
   "id": "ea502ad1",
   "metadata": {},
   "source": [
    "# TUPLE"
   ]
  },
  {
   "cell_type": "code",
   "execution_count": 13,
   "id": "9281caf3",
   "metadata": {},
   "outputs": [
    {
     "name": "stdout",
     "output_type": "stream",
     "text": [
      "(21, 44, 56)\n"
     ]
    }
   ],
   "source": [
    "MY_TUPLE = (21,44,56)\n",
    "print(MY_TUPLE)"
   ]
  },
  {
   "cell_type": "code",
   "execution_count": 15,
   "id": "53d430f6",
   "metadata": {},
   "outputs": [
    {
     "name": "stdout",
     "output_type": "stream",
     "text": [
      "('ghayur', 'qayyum', 'hubdar')\n"
     ]
    }
   ],
   "source": [
    "tupl = \"ghayur\",\"qayyum\",\"hubdar\"\n",
    "print(tupl)"
   ]
  },
  {
   "cell_type": "code",
   "execution_count": 16,
   "id": "1ee18989",
   "metadata": {},
   "outputs": [
    {
     "ename": "TypeError",
     "evalue": "'tuple' object does not support item assignment",
     "output_type": "error",
     "traceback": [
      "\u001b[1;31m---------------------------------------------------------------------------\u001b[0m",
      "\u001b[1;31mTypeError\u001b[0m                                 Traceback (most recent call last)",
      "\u001b[1;32m~\\AppData\\Local\\Temp\\ipykernel_7376\\2205547549.py\u001b[0m in \u001b[0;36m<module>\u001b[1;34m\u001b[0m\n\u001b[1;32m----> 1\u001b[1;33m \u001b[0mtupl\u001b[0m\u001b[1;33m[\u001b[0m\u001b[1;36m0\u001b[0m\u001b[1;33m]\u001b[0m\u001b[1;33m=\u001b[0m\u001b[1;34m\"khan\"\u001b[0m\u001b[1;33m\u001b[0m\u001b[1;33m\u001b[0m\u001b[0m\n\u001b[0m\u001b[0;32m      2\u001b[0m \u001b[0mprint\u001b[0m\u001b[1;33m(\u001b[0m\u001b[0mtupl\u001b[0m\u001b[1;33m)\u001b[0m\u001b[1;33m\u001b[0m\u001b[1;33m\u001b[0m\u001b[0m\n",
      "\u001b[1;31mTypeError\u001b[0m: 'tuple' object does not support item assignment"
     ]
    }
   ],
   "source": [
    "tupl[0]=\"khan\"\n",
    "print(tupl)"
   ]
  },
  {
   "cell_type": "code",
   "execution_count": 21,
   "id": "0dd3b042",
   "metadata": {},
   "outputs": [
    {
     "name": "stdout",
     "output_type": "stream",
     "text": [
      "3\n",
      "1\n"
     ]
    }
   ],
   "source": [
    "n = (22,33,33,54,55,33,22)\n",
    "print(n.count(33))\n",
    "print(n.index(33))"
   ]
  },
  {
   "cell_type": "markdown",
   "id": "caae486d",
   "metadata": {},
   "source": [
    "# SETS"
   ]
  },
  {
   "cell_type": "code",
   "execution_count": 24,
   "id": "05c5a129",
   "metadata": {},
   "outputs": [
    {
     "name": "stdout",
     "output_type": "stream",
     "text": [
      "{1, 2, 3, 4}\n"
     ]
    }
   ],
   "source": [
    "my_set = {1,2,3,3,4,3}\n",
    "print(my_set)\n"
   ]
  },
  {
   "cell_type": "code",
   "execution_count": 25,
   "id": "f73255f7",
   "metadata": {},
   "outputs": [
    {
     "name": "stdout",
     "output_type": "stream",
     "text": [
      "1\n",
      "2\n",
      "3\n",
      "4\n"
     ]
    }
   ],
   "source": [
    "for i in my_set:\n",
    "    print(i)"
   ]
  },
  {
   "cell_type": "code",
   "execution_count": 26,
   "id": "5d3bde43",
   "metadata": {},
   "outputs": [
    {
     "name": "stdout",
     "output_type": "stream",
     "text": [
      "{1, 2, 3, 4, 10}\n"
     ]
    }
   ],
   "source": [
    "my_set.add(10)\n",
    "print(my_set)"
   ]
  },
  {
   "cell_type": "code",
   "execution_count": 27,
   "id": "df70cb1f",
   "metadata": {},
   "outputs": [
    {
     "name": "stdout",
     "output_type": "stream",
     "text": [
      "{1, 2, 4, 10}\n"
     ]
    }
   ],
   "source": [
    "my_set.discard(3)\n",
    "print(my_set)"
   ]
  },
  {
   "cell_type": "code",
   "execution_count": 30,
   "id": "ac05126e",
   "metadata": {},
   "outputs": [
    {
     "name": "stdout",
     "output_type": "stream",
     "text": [
      "{2, 4, 10}\n"
     ]
    }
   ],
   "source": [
    "my_set.pop()\n",
    "print(my_set)"
   ]
  },
  {
   "cell_type": "code",
   "execution_count": 31,
   "id": "989965e2",
   "metadata": {},
   "outputs": [
    {
     "name": "stdout",
     "output_type": "stream",
     "text": [
      "set()\n"
     ]
    }
   ],
   "source": [
    "my_set.clear()\n",
    "print(my_set)"
   ]
  },
  {
   "cell_type": "code",
   "execution_count": 32,
   "id": "130d4f26",
   "metadata": {},
   "outputs": [
    {
     "name": "stdout",
     "output_type": "stream",
     "text": [
      "set()\n"
     ]
    }
   ],
   "source": [
    "print(my_set)"
   ]
  },
  {
   "cell_type": "code",
   "execution_count": 49,
   "id": "47999027",
   "metadata": {},
   "outputs": [
    {
     "name": "stdout",
     "output_type": "stream",
     "text": [
      "{1, 2, 3, 4, 5, 6, 7, 8}\n"
     ]
    }
   ],
   "source": [
    "a = {1,2,3,4}\n",
    "b = {5,6,7,8}\n",
    "print(a|b)"
   ]
  },
  {
   "cell_type": "code",
   "execution_count": 50,
   "id": "f8df141f",
   "metadata": {},
   "outputs": [
    {
     "name": "stdout",
     "output_type": "stream",
     "text": [
      "{3}\n"
     ]
    }
   ],
   "source": [
    "a = {1,2,3,4}\n",
    "b = {3,5,6,7,8}\n",
    "print(a&b)"
   ]
  },
  {
   "cell_type": "code",
   "execution_count": 51,
   "id": "3fa687b8",
   "metadata": {},
   "outputs": [
    {
     "name": "stdout",
     "output_type": "stream",
     "text": [
      "{1, 2, 4}\n"
     ]
    }
   ],
   "source": [
    "a = {1,2,3,4}\n",
    "b = {3,5,6,7,8}\n",
    "print(a-b)"
   ]
  },
  {
   "cell_type": "code",
   "execution_count": 52,
   "id": "fb83c69f",
   "metadata": {
    "scrolled": true
   },
   "outputs": [
    {
     "name": "stdout",
     "output_type": "stream",
     "text": [
      "{1, 2, 4, 5, 6, 7, 8}\n"
     ]
    }
   ],
   "source": [
    "a = {1,2,3,4}\n",
    "b = {3,5,6,7,8}\n",
    "print(a^b)"
   ]
  },
  {
   "cell_type": "code",
   "execution_count": 53,
   "id": "e28d6876",
   "metadata": {},
   "outputs": [
    {
     "name": "stdout",
     "output_type": "stream",
     "text": [
      "{1, 2, 3, 4}\n"
     ]
    }
   ],
   "source": [
    "print(a)"
   ]
  },
  {
   "cell_type": "code",
   "execution_count": 54,
   "id": "63d99c13",
   "metadata": {},
   "outputs": [
    {
     "name": "stdout",
     "output_type": "stream",
     "text": [
      "{1, 2, 3, 4}\n"
     ]
    }
   ],
   "source": [
    "a.add(4)\n",
    "print(a)"
   ]
  },
  {
   "cell_type": "markdown",
   "id": "4dba0b16",
   "metadata": {},
   "source": [
    "# DICTIONARY"
   ]
  },
  {
   "cell_type": "code",
   "execution_count": 55,
   "id": "9048bbe6",
   "metadata": {},
   "outputs": [
    {
     "name": "stdout",
     "output_type": "stream",
     "text": [
      "{'math': 61, 'chemistry': 55, 'urdu': 68}\n"
     ]
    }
   ],
   "source": [
    "my_dict = {\"math\":61,\"chemistry\":55,\"urdu\":68}\n",
    "print(my_dict)"
   ]
  },
  {
   "cell_type": "code",
   "execution_count": 56,
   "id": "38f6d65a",
   "metadata": {},
   "outputs": [
    {
     "name": "stdout",
     "output_type": "stream",
     "text": [
      "61\n"
     ]
    }
   ],
   "source": [
    "print(my_dict[\"math\"])"
   ]
  },
  {
   "cell_type": "code",
   "execution_count": 57,
   "id": "8fa800cb",
   "metadata": {},
   "outputs": [
    {
     "name": "stdout",
     "output_type": "stream",
     "text": [
      "{'math': 70, 'chemistry': 55, 'urdu': 68}\n"
     ]
    }
   ],
   "source": [
    "my_dict[\"math\"]=70\n",
    "print(my_dict)"
   ]
  },
  {
   "cell_type": "code",
   "execution_count": 58,
   "id": "42946aee",
   "metadata": {},
   "outputs": [
    {
     "name": "stdout",
     "output_type": "stream",
     "text": [
      "{'chemistry': 55, 'urdu': 68}\n"
     ]
    }
   ],
   "source": [
    "del my_dict[\"math\"]\n",
    "print(my_dict)"
   ]
  },
  {
   "cell_type": "code",
   "execution_count": 59,
   "id": "c450152b",
   "metadata": {},
   "outputs": [
    {
     "name": "stdout",
     "output_type": "stream",
     "text": [
      "{'chemistry': 55, 'urdu': 68, 'math': 70}\n",
      "dict_keys(['chemistry', 'urdu', 'math'])\n",
      "dict_values([55, 68, 70])\n",
      "dict_items([('chemistry', 55), ('urdu', 68), ('math', 70)])\n"
     ]
    }
   ],
   "source": [
    "my_dict[\"math\"]=70\n",
    "print(my_dict)\n",
    "print(my_dict.keys())\n",
    "print(my_dict.values())\n",
    "print(my_dict.items())"
   ]
  },
  {
   "cell_type": "markdown",
   "id": "b2b02ab1",
   "metadata": {},
   "source": [
    "# TASK"
   ]
  },
  {
   "cell_type": "code",
   "execution_count": 60,
   "id": "ff6aca2d",
   "metadata": {},
   "outputs": [
    {
     "name": "stdout",
     "output_type": "stream",
     "text": [
      "3\n"
     ]
    }
   ],
   "source": [
    "# find a smaller number\n",
    "num = [7,6,5,4,33,3]\n",
    "#num.min()\n",
    "print(min(num))"
   ]
  },
  {
   "cell_type": "code",
   "execution_count": 1,
   "id": "8dea541d-b1a1-4b91-b9e0-de133cb1facf",
   "metadata": {},
   "outputs": [
    {
     "name": "stdout",
     "output_type": "stream",
     "text": [
      "{'name': 'ghayur', 'class': 'bscs', 'rool_no': 108, 'name1': 'qayyum', 'class1': '9th', 'rool_no1': 10}\n"
     ]
    }
   ],
   "source": [
    "# emerging two dictioneries\n",
    "dict1 = {\"name\":\"ghayur\",\"class\":\"bscs\",\"rool_no\":108}\n",
    "dict2 = {\"name1\":\"qayyum\",\"class1\":\"9th\",\"rool_no1\":10}\n",
    "print(dict1|dict2)"
   ]
  },
  {
   "cell_type": "markdown",
   "id": "8204515b",
   "metadata": {},
   "source": [
    "# DAY 2"
   ]
  },
  {
   "cell_type": "markdown",
   "id": "aa09fe9b",
   "metadata": {},
   "source": [
    "# FUNCTIONS"
   ]
  },
  {
   "cell_type": "markdown",
   "id": "90a77fb8",
   "metadata": {},
   "source": [
    "# BUILT-IN FUNCTION"
   ]
  },
  {
   "cell_type": "code",
   "execution_count": 61,
   "id": "dcf08c8c",
   "metadata": {},
   "outputs": [],
   "source": [
    "# all pre defined function are called built in function"
   ]
  },
  {
   "cell_type": "markdown",
   "id": "0ea6bc15",
   "metadata": {},
   "source": [
    "# MODULE FUNCTION\n"
   ]
  },
  {
   "cell_type": "code",
   "execution_count": 62,
   "id": "9294f09f",
   "metadata": {},
   "outputs": [
    {
     "name": "stdout",
     "output_type": "stream",
     "text": [
      "['__doc__', '__loader__', '__name__', '__package__', '__spec__', 'acos', 'acosh', 'asin', 'asinh', 'atan', 'atan2', 'atanh', 'ceil', 'comb', 'copysign', 'cos', 'cosh', 'degrees', 'dist', 'e', 'erf', 'erfc', 'exp', 'expm1', 'fabs', 'factorial', 'floor', 'fmod', 'frexp', 'fsum', 'gamma', 'gcd', 'hypot', 'inf', 'isclose', 'isfinite', 'isinf', 'isnan', 'isqrt', 'lcm', 'ldexp', 'lgamma', 'log', 'log10', 'log1p', 'log2', 'modf', 'nan', 'nextafter', 'perm', 'pi', 'pow', 'prod', 'radians', 'remainder', 'sin', 'sinh', 'sqrt', 'tan', 'tanh', 'tau', 'trunc', 'ulp']\n"
     ]
    }
   ],
   "source": [
    "# all module that are imported are called module function\n",
    "import math\n",
    "print(dir(math))"
   ]
  },
  {
   "cell_type": "code",
   "execution_count": 12,
   "id": "48f4bcac",
   "metadata": {},
   "outputs": [
    {
     "name": "stdout",
     "output_type": "stream",
     "text": [
      "2.0\n"
     ]
    }
   ],
   "source": [
    "from math import sqrt\n",
    "print(sqrt(4))"
   ]
  },
  {
   "cell_type": "code",
   "execution_count": 64,
   "id": "fdefc9e2",
   "metadata": {},
   "outputs": [
    {
     "name": "stdout",
     "output_type": "stream",
     "text": [
      "3.0\n",
      "-0.1425465430742778\n"
     ]
    }
   ],
   "source": [
    "from math import *\n",
    "print(sqrt(9))\n",
    "print(tan(3))"
   ]
  },
  {
   "cell_type": "code",
   "execution_count": 4,
   "id": "aff3c4a9",
   "metadata": {},
   "outputs": [
    {
     "name": "stdout",
     "output_type": "stream",
     "text": [
      "['Calendar', 'EPOCH', 'FRIDAY', 'February', 'HTMLCalendar', 'IllegalMonthError', 'IllegalWeekdayError', 'January', 'LocaleHTMLCalendar', 'LocaleTextCalendar', 'MONDAY', 'SATURDAY', 'SUNDAY', 'THURSDAY', 'TUESDAY', 'TextCalendar', 'WEDNESDAY', '_EPOCH_ORD', '__all__', '__builtins__', '__cached__', '__doc__', '__file__', '__loader__', '__name__', '__package__', '__spec__', '_colwidth', '_locale', '_localized_day', '_localized_month', '_monthlen', '_nextmonth', '_prevmonth', '_spacing', 'c', 'calendar', 'datetime', 'day_abbr', 'day_name', 'different_locale', 'error', 'firstweekday', 'format', 'formatstring', 'isleap', 'leapdays', 'main', 'mdays', 'month', 'month_abbr', 'month_name', 'monthcalendar', 'monthrange', 'prcal', 'prmonth', 'prweek', 'repeat', 'setfirstweekday', 'sys', 'timegm', 'week', 'weekday', 'weekheader']\n"
     ]
    }
   ],
   "source": [
    "import calendar\n",
    "print(dir(calendar))"
   ]
  },
  {
   "cell_type": "code",
   "execution_count": 10,
   "id": "293405ff",
   "metadata": {},
   "outputs": [
    {
     "name": "stdout",
     "output_type": "stream",
     "text": [
      "      May 2023\n",
      "Mo Tu We Th Fr Sa Su\n",
      " 1  2  3  4  5  6  7\n",
      " 8  9 10 11 12 13 14\n",
      "15 16 17 18 19 20 21\n",
      "22 23 24 25 26 27 28\n",
      "29 30 31\n",
      "\n"
     ]
    }
   ],
   "source": [
    "from calendar import month\n",
    "yy =  2023\n",
    "mm = 5\n",
    "print(calendar.month(yy,mm))"
   ]
  },
  {
   "cell_type": "markdown",
   "id": "acc3c9f0",
   "metadata": {},
   "source": [
    "# USER DEFINED FUNCTION"
   ]
  },
  {
   "cell_type": "code",
   "execution_count": 65,
   "id": "e4b0ca68",
   "metadata": {},
   "outputs": [
    {
     "name": "stdout",
     "output_type": "stream",
     "text": [
      "11\n"
     ]
    }
   ],
   "source": [
    "def print_sum(num1,num2):\n",
    "    print(num1+num2)  \n",
    "print_sum(5,6)"
   ]
  },
  {
   "cell_type": "code",
   "execution_count": null,
   "id": "a39a01ee",
   "metadata": {},
   "outputs": [],
   "source": []
  },
  {
   "cell_type": "code",
   "execution_count": 66,
   "id": "df0dcc06",
   "metadata": {},
   "outputs": [
    {
     "data": {
      "text/plain": [
       "10"
      ]
     },
     "execution_count": 66,
     "metadata": {},
     "output_type": "execute_result"
    }
   ],
   "source": [
    "def print_sum(num1,num2=6):\n",
    "    return num1+num2\n",
    "print_sum(4)"
   ]
  },
  {
   "cell_type": "code",
   "execution_count": 67,
   "id": "d7291ada",
   "metadata": {},
   "outputs": [
    {
     "name": "stdout",
     "output_type": "stream",
     "text": [
      "4.235294117647059\n"
     ]
    }
   ],
   "source": [
    "a = 8\n",
    "b = 9\n",
    "g_mean = (a*b)/(a+b)\n",
    "print(g_mean)"
   ]
  },
  {
   "cell_type": "code",
   "execution_count": 13,
   "id": "4ce61c4f",
   "metadata": {},
   "outputs": [
    {
     "name": "stdout",
     "output_type": "stream",
     "text": [
      "3.75\n",
      "0.8888888888888888\n",
      "4.285714285714286\n"
     ]
    }
   ],
   "source": [
    "def g_mean(num1,num2):\n",
    "    print((num1*num2)/(num1+num2))\n",
    "g_mean(6,10)\n",
    "g_mean(8,1) \n",
    "g_mean(6,15) "
   ]
  },
  {
   "cell_type": "code",
   "execution_count": 69,
   "id": "a52556b7",
   "metadata": {},
   "outputs": [],
   "source": [
    "# a function is a block of code that perform a specific task whenever it is called"
   ]
  },
  {
   "cell_type": "markdown",
   "id": "999b9a72",
   "metadata": {},
   "source": [
    "# LAMBDA FUNCTION"
   ]
  },
  {
   "cell_type": "code",
   "execution_count": 70,
   "id": "900a19cd",
   "metadata": {},
   "outputs": [],
   "source": [
    "# Anonoumous functon of a singla line"
   ]
  },
  {
   "cell_type": "code",
   "execution_count": 71,
   "id": "2e53b6ad",
   "metadata": {},
   "outputs": [
    {
     "data": {
      "text/plain": [
       "10"
      ]
     },
     "execution_count": 71,
     "metadata": {},
     "output_type": "execute_result"
    }
   ],
   "source": [
    "def double(num):\n",
    "    return num*2\n",
    "double(5)"
   ]
  },
  {
   "cell_type": "code",
   "execution_count": 72,
   "id": "ab82e9e4",
   "metadata": {},
   "outputs": [
    {
     "name": "stdout",
     "output_type": "stream",
     "text": [
      "12\n",
      "12\n"
     ]
    }
   ],
   "source": [
    "double = lambda num:num*2\n",
    "double(6)\n",
    "print(double(6))\n",
    "print(double(6))"
   ]
  },
  {
   "cell_type": "code",
   "execution_count": 73,
   "id": "d63e8423",
   "metadata": {},
   "outputs": [
    {
     "data": {
      "text/plain": [
       "50"
      ]
     },
     "execution_count": 73,
     "metadata": {},
     "output_type": "execute_result"
    }
   ],
   "source": [
    "multiply = lambda x,y:x*y\n",
    "multiply(5,10)"
   ]
  },
  {
   "cell_type": "markdown",
   "id": "f8506db3",
   "metadata": {},
   "source": [
    "# MAP FUNCTION"
   ]
  },
  {
   "cell_type": "code",
   "execution_count": 74,
   "id": "022de4be",
   "metadata": {},
   "outputs": [
    {
     "data": {
      "text/plain": [
       "125"
      ]
     },
     "execution_count": 74,
     "metadata": {},
     "output_type": "execute_result"
    }
   ],
   "source": [
    "def cube(x):\n",
    "    return x*x*x\n",
    "cube(5)"
   ]
  },
  {
   "cell_type": "code",
   "execution_count": 3,
   "id": "c7fd0e25",
   "metadata": {},
   "outputs": [
    {
     "name": "stdout",
     "output_type": "stream",
     "text": [
      "[1, 8, 27, 64, 125, 216, 343, 512]\n"
     ]
    }
   ],
   "source": [
    "l = [1,2,3,4,5,6,7,8]\n",
    "new_l = []\n",
    "def cube(x):\n",
    "    return(x*x*x)\n",
    "for i in l:\n",
    "    new_l.append(cube(i))\n",
    "print(new_l)"
   ]
  },
  {
   "cell_type": "code",
   "execution_count": 76,
   "id": "d96f9284",
   "metadata": {},
   "outputs": [
    {
     "name": "stdout",
     "output_type": "stream",
     "text": [
      "[1, 8, 27, 64, 125, 216, 343, 512]\n"
     ]
    }
   ],
   "source": [
    "l = [1,2,3,4,5,6,7,8]\n",
    "def cube(x):\n",
    "    return x*x*x\n",
    "new_list = list(map(cube,l))\n",
    "print(new_list)"
   ]
  },
  {
   "cell_type": "markdown",
   "id": "b0e66ecc",
   "metadata": {},
   "source": [
    "# `FILTER FUNCTION"
   ]
  },
  {
   "cell_type": "code",
   "execution_count": 77,
   "id": "f20ddeec",
   "metadata": {},
   "outputs": [
    {
     "name": "stdout",
     "output_type": "stream",
     "text": [
      "[5, 6, 7, 8]\n"
     ]
    }
   ],
   "source": [
    "l = [1,2,3,4,5,6,7,8]\n",
    "def filter_func(a):\n",
    "    return a>4\n",
    "new_func = list(filter(filter_func,l))\n",
    "print(new_func)"
   ]
  },
  {
   "cell_type": "markdown",
   "id": "c7e88f2f",
   "metadata": {},
   "source": [
    "# REDUCD FUNCTION"
   ]
  },
  {
   "cell_type": "code",
   "execution_count": 7,
   "id": "89b5a05e",
   "metadata": {},
   "outputs": [
    {
     "name": "stdout",
     "output_type": "stream",
     "text": [
      "3\n"
     ]
    }
   ],
   "source": [
    "from functools import reduce\n",
    "l = [1,2]\n",
    "def filter_func(a,b):\n",
    "    return a+b\n",
    "new_func = reduce(filter_func,l)\n",
    "print(new_func)"
   ]
  },
  {
   "cell_type": "markdown",
   "id": "bd90158d",
   "metadata": {},
   "source": [
    "# EXCEPTION HANDLING"
   ]
  },
  {
   "cell_type": "code",
   "execution_count": 88,
   "id": "1a69a4e1",
   "metadata": {},
   "outputs": [
    {
     "name": "stdout",
     "output_type": "stream",
     "text": [
      "enter your number 5\n",
      "All is well\n",
      "try try again\n"
     ]
    }
   ],
   "source": [
    "try:\n",
    "    a = input(\"enter your number \")\n",
    "    print(a*\"ali\")\n",
    "except:\n",
    "    print(\"All is well\")\n",
    "finally:\n",
    "    print(\"try try again\")"
   ]
  },
  {
   "cell_type": "code",
   "execution_count": 99,
   "id": "cc0829ad",
   "metadata": {},
   "outputs": [
    {
     "name": "stdout",
     "output_type": "stream",
     "text": [
      "enter your number 6\n",
      "All is well can't multiply sequence by non-int of type 'str'\n",
      "try try again\n"
     ]
    }
   ],
   "source": [
    "try:\n",
    "    #a = int(input(\"enter your number \"))\n",
    "    a = input(\"enter your number \")\n",
    "    print(a*\"8\")\n",
    "except Exception as e:\n",
    "    print(\"All is well\",e)\n",
    "finally:\n",
    "    print(\"try try again\")"
   ]
  },
  {
   "cell_type": "markdown",
   "id": "c92a9eb6",
   "metadata": {},
   "source": [
    "# DAY 3"
   ]
  },
  {
   "cell_type": "markdown",
   "id": "36cce935",
   "metadata": {},
   "source": [
    "# OOP IN PYTHON"
   ]
  },
  {
   "cell_type": "markdown",
   "id": "303d8e49",
   "metadata": {},
   "source": [
    "# CLASS"
   ]
  },
  {
   "cell_type": "code",
   "execution_count": 1,
   "id": "5dd4e16f",
   "metadata": {},
   "outputs": [],
   "source": [
    "# a class is a blueprint or templates for declaring and creating object"
   ]
  },
  {
   "cell_type": "markdown",
   "id": "1dc84dbe",
   "metadata": {},
   "source": [
    "# OBJECT"
   ]
  },
  {
   "cell_type": "code",
   "execution_count": null,
   "id": "a9b30b92",
   "metadata": {},
   "outputs": [],
   "source": [
    "# object is the instance of the class that allow coder to use variable and method outside the class\n"
   ]
  },
  {
   "cell_type": "code",
   "execution_count": 1,
   "id": "530f7e3c",
   "metadata": {},
   "outputs": [
    {
     "name": "stdout",
     "output_type": "stream",
     "text": [
      "making a call\n",
      "playing a game\n"
     ]
    }
   ],
   "source": [
    "class phone:\n",
    "    def make_call(self): # method\n",
    "        print(\"making a call\")\n",
    "    def play_game(self):\n",
    "        print(\"playing a game\")\n",
    "p1 = phone() # object\n",
    "p1.make_call()\n",
    "p1.play_game()"
   ]
  },
  {
   "cell_type": "markdown",
   "id": "3a9d7d80",
   "metadata": {},
   "source": [
    "# SETTER AND GETTER METHOD IN CLASS"
   ]
  },
  {
   "cell_type": "code",
   "execution_count": 4,
   "id": "2bddd4f2",
   "metadata": {},
   "outputs": [
    {
     "name": "stdout",
     "output_type": "stream",
     "text": [
      "black\n",
      "500000\n"
     ]
    }
   ],
   "source": [
    "class phone:\n",
    "    def assign_color(self,col):# setter\n",
    "        self.color = col\n",
    "    def assign_cost(self,cst): # setter\n",
    "        self.cost = cst\n",
    "    def show_color(self): # getter\n",
    "        return self.color\n",
    "    def show_cost(self): # getter\n",
    "        return self.cost\n",
    "p2 = phone()\n",
    "p2.assign_color(\"black\")\n",
    "p2.assign_cost(500000)\n",
    "print(p2.show_color())\n",
    "print(p2.show_cost())"
   ]
  },
  {
   "cell_type": "markdown",
   "id": "65163d34",
   "metadata": {},
   "source": [
    "# CLASS USING CONSTRUCTOR"
   ]
  },
  {
   "cell_type": "code",
   "execution_count": 4,
   "id": "406bb17a",
   "metadata": {},
   "outputs": [
    {
     "name": "stdout",
     "output_type": "stream",
     "text": [
      "name: ghayur abbas\n",
      "age: 18\n",
      "salary: 50000\n",
      "gender: male\n"
     ]
    }
   ],
   "source": [
    "class employee:\n",
    "    def __init__ (self,name,age,salary,gender):\n",
    "        self.name = name\n",
    "        self.age = age\n",
    "        self.salary = salary\n",
    "        self.gender= gender\n",
    "    def employee_detail(self):\n",
    "        print(\"name:\",self.name)\n",
    "        print(\"age:\",self.age)\n",
    "        print(\"salary:\",self.salary)\n",
    "        print(\"gender:\",self.gender)\n",
    "e = employee(\"ghayur abbas\",18,50000,\"male\")\n",
    "e.employee_detail()\n",
    "        "
   ]
  },
  {
   "cell_type": "markdown",
   "id": "1428053d",
   "metadata": {},
   "source": [
    "# INHERITENCE"
   ]
  },
  {
   "cell_type": "code",
   "execution_count": null,
   "id": "120ff86f",
   "metadata": {},
   "outputs": [],
   "source": [
    "# allow classes to inherit common properties from parent classes"
   ]
  },
  {
   "cell_type": "code",
   "execution_count": 9,
   "id": "b4a1f6ac",
   "metadata": {},
   "outputs": [
    {
     "name": "stdout",
     "output_type": "stream",
     "text": [
      "Ai\n",
      "ML\n"
     ]
    }
   ],
   "source": [
    "class A: # parent class\n",
    "    def show_A(self):\n",
    "        print(\"Ai\")\n",
    "class B(A): # child class\n",
    "    def show_B(self):\n",
    "        print(\"ML\")\n",
    "obj = B()\n",
    "obj.show_A()\n",
    "obj.show_B()"
   ]
  },
  {
   "cell_type": "markdown",
   "id": "def058d8",
   "metadata": {},
   "source": [
    "# MULTI LEVEL INHERITENCE"
   ]
  },
  {
   "cell_type": "code",
   "execution_count": 14,
   "id": "74816799",
   "metadata": {},
   "outputs": [
    {
     "name": "stdout",
     "output_type": "stream",
     "text": [
      "AI\n",
      "ML\n",
      "DL\n"
     ]
    }
   ],
   "source": [
    "class A:\n",
    "    def show_A(self):\n",
    "        print(\"AI\")\n",
    "class B(A):\n",
    "    def show_B(self):\n",
    "        print(\"ML\")\n",
    "class C(B):\n",
    "    def show_C(self):\n",
    "        print(\"DL\")\n",
    "obj = C()\n",
    "obj.show_A()\n",
    "obj.show_B()\n",
    "obj.show_C()"
   ]
  },
  {
   "cell_type": "markdown",
   "id": "42b45699",
   "metadata": {},
   "source": [
    "# MULTIPLE INHERITENCE"
   ]
  },
  {
   "cell_type": "code",
   "execution_count": 27,
   "id": "551111d0",
   "metadata": {},
   "outputs": [
    {
     "name": "stdout",
     "output_type": "stream",
     "text": [
      "AI\n",
      "ML\n",
      "DL\n"
     ]
    }
   ],
   "source": [
    "try:\n",
    "    class A:\n",
    "        def show_A(self):\n",
    "            print(\"AI\")\n",
    "    class B:\n",
    "        def show_B(self):\n",
    "            print(\"ML\")\n",
    "    class c:\n",
    "        def show_C(self):\n",
    "            print(\"DL\")\n",
    "    obj = A()\n",
    "    obj = B()\n",
    "    obj = C()\n",
    "    obj.show_A()\n",
    "    obj.show_B()\n",
    "    obj.show_C()\n",
    "except:\n",
    "    print(\"try try again\")"
   ]
  },
  {
   "cell_type": "markdown",
   "id": "dccae2de",
   "metadata": {},
   "source": [
    "# ENCAPSULATION"
   ]
  },
  {
   "cell_type": "code",
   "execution_count": null,
   "id": "df2b0ac8",
   "metadata": {},
   "outputs": [],
   "source": [
    "# An object not accessible outside the class\n",
    "# hidden code\n",
    "# private"
   ]
  },
  {
   "cell_type": "code",
   "execution_count": 37,
   "id": "96b14ab4",
   "metadata": {},
   "outputs": [
    {
     "name": "stdout",
     "output_type": "stream",
     "text": [
      "ghayur\n"
     ]
    }
   ],
   "source": [
    "class student:\n",
    "    __name = \"ghayur\"\n",
    "    def __init__(self):\n",
    "        print(self.__name)\n",
    "obj = student()"
   ]
  },
  {
   "cell_type": "code",
   "execution_count": 39,
   "id": "f32d2e77",
   "metadata": {},
   "outputs": [
    {
     "name": "stdout",
     "output_type": "stream",
     "text": [
      "ghayur\n"
     ]
    }
   ],
   "source": [
    "class student:\n",
    "    __name = \"ghayur\"\n",
    "    print(__name)\n",
    "obj = student()"
   ]
  },
  {
   "cell_type": "markdown",
   "id": "1969e797",
   "metadata": {},
   "source": [
    "# DAY 4"
   ]
  },
  {
   "cell_type": "markdown",
   "id": "8bd1dddb",
   "metadata": {},
   "source": [
    "# POLYMORPHISM"
   ]
  },
  {
   "cell_type": "code",
   "execution_count": null,
   "id": "92ad8552",
   "metadata": {},
   "outputs": [],
   "source": [
    "# it is a ability to exist in many form\n",
    "# two type\n",
    "# overriding\n",
    "# overloading"
   ]
  },
  {
   "cell_type": "markdown",
   "id": "6505696f",
   "metadata": {},
   "source": [
    "# OVERLOADING"
   ]
  },
  {
   "cell_type": "code",
   "execution_count": 5,
   "id": "9fa4cfdb",
   "metadata": {},
   "outputs": [],
   "source": [
    "# in this type function name are same but you can change parameter as you desire  "
   ]
  },
  {
   "cell_type": "code",
   "execution_count": 6,
   "id": "1586896f",
   "metadata": {},
   "outputs": [
    {
     "name": "stdout",
     "output_type": "stream",
     "text": [
      "welcome to AI\n",
      "welcome to AIghayur \n"
     ]
    }
   ],
   "source": [
    "class AI:\n",
    "    def display_info(self,name=\"\"):\n",
    "        print(\"welcome to AI\"+name)\n",
    "obj = AI()\n",
    "obj.display_info()\n",
    "obj.display_info(\"ghayur \")"
   ]
  },
  {
   "cell_type": "markdown",
   "id": "f42612d5",
   "metadata": {},
   "source": [
    "# OVERRIDING"
   ]
  },
  {
   "cell_type": "code",
   "execution_count": null,
   "id": "de07f55b",
   "metadata": {},
   "outputs": [],
   "source": [
    "# FUNCTION OVERRiding in this case\n",
    "# same name function but in different classesd\n",
    "# it actually use in inheritence"
   ]
  },
  {
   "cell_type": "code",
   "execution_count": 13,
   "id": "96ff2ce7",
   "metadata": {},
   "outputs": [
    {
     "name": "stdout",
     "output_type": "stream",
     "text": [
      "welcom to ml\n",
      "welcom to ml\n"
     ]
    }
   ],
   "source": [
    "class AI:\n",
    "    def display_info(self):\n",
    "        print(\"welcome to AI\")\n",
    "class ML(AI):\n",
    "    def display_info(self):\n",
    "        print(\"welcom to ml\")\n",
    "obj = ML()\n",
    "obj.display_info()\n",
    "obj.display_info()"
   ]
  },
  {
   "cell_type": "markdown",
   "id": "52be3073",
   "metadata": {},
   "source": [
    "# HOW OVERCOME OVERRIDING"
   ]
  },
  {
   "cell_type": "code",
   "execution_count": 12,
   "id": "19b7375f",
   "metadata": {},
   "outputs": [
    {
     "name": "stdout",
     "output_type": "stream",
     "text": [
      "welcome to AI\n",
      "welcom to ml\n"
     ]
    }
   ],
   "source": [
    "class AI:\n",
    "    def display_info(self):\n",
    "        print(\"welcome to AI\")\n",
    "class ML(AI):\n",
    "    def display_info(self):\n",
    "        super().display_info()\n",
    "        print(\"welcom to ml\")\n",
    "obj = ML()\n",
    "obj.display_info()"
   ]
  },
  {
   "cell_type": "markdown",
   "id": "f5060e4c",
   "metadata": {},
   "source": [
    "# EMPTY CLASS"
   ]
  },
  {
   "cell_type": "code",
   "execution_count": 14,
   "id": "e59e8eab",
   "metadata": {},
   "outputs": [],
   "source": [
    "class empty:\n",
    "    pass"
   ]
  },
  {
   "cell_type": "code",
   "execution_count": 15,
   "id": "671c2e43",
   "metadata": {},
   "outputs": [],
   "source": [
    "class empty:\n",
    "    def emp(self):\n",
    "        pass"
   ]
  },
  {
   "cell_type": "markdown",
   "id": "f0925526",
   "metadata": {},
   "source": [
    "# ABSTRACTION"
   ]
  },
  {
   "cell_type": "code",
   "execution_count": null,
   "id": "799b8c7f",
   "metadata": {},
   "outputs": [],
   "source": []
  }
 ],
 "metadata": {
  "kernelspec": {
   "display_name": "Python 3 (ipykernel)",
   "language": "python",
   "name": "python3"
  },
  "language_info": {
   "codemirror_mode": {
    "name": "ipython",
    "version": 3
   },
   "file_extension": ".py",
   "mimetype": "text/x-python",
   "name": "python",
   "nbconvert_exporter": "python",
   "pygments_lexer": "ipython3",
   "version": "3.11.7"
  }
 },
 "nbformat": 4,
 "nbformat_minor": 5
}
