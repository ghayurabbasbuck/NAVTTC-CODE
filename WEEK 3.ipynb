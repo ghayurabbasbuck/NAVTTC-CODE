{
 "cells": [
  {
   "cell_type": "markdown",
   "id": "0204833e",
   "metadata": {},
   "source": [
    "\n",
    "# DAY 1"
   ]
  },
  {
   "cell_type": "markdown",
   "id": "24945a4d",
   "metadata": {},
   "source": [
    "# NUMPY"
   ]
  },
  {
   "cell_type": "code",
   "execution_count": 2,
   "id": "a96bd6e6",
   "metadata": {},
   "outputs": [
    {
     "name": "stdout",
     "output_type": "stream",
     "text": [
      "[ 1  2 20  9]\n"
     ]
    }
   ],
   "source": [
    "import numpy as np\n",
    "a = [1,2,20,9]\n",
    "a1 = np.array(a)\n",
    "print(a1)"
   ]
  },
  {
   "cell_type": "code",
   "execution_count": 36,
   "id": "6f401833",
   "metadata": {},
   "outputs": [
    {
     "name": "stdout",
     "output_type": "stream",
     "text": [
      "[ 1  2 20  9]\n",
      "int8\n"
     ]
    }
   ],
   "source": [
    "import numpy as np\n",
    "a = [1,2,20,9]\n",
    "a1 = np.array(a,np.int8)\n",
    "print(a1)\n",
    "print(a1.dtype)"
   ]
  },
  {
   "cell_type": "code",
   "execution_count": 9,
   "id": "84eb3f25",
   "metadata": {},
   "outputs": [
    {
     "name": "stdout",
     "output_type": "stream",
     "text": [
      "[  1   2   3 126   5  44]\n"
     ]
    }
   ],
   "source": [
    "a2 = [1,2,3,445566,5,44]\n",
    "a3 = np.array(a2,np.int8)\n",
    "print(a3)"
   ]
  },
  {
   "cell_type": "code",
   "execution_count": null,
   "id": "c9264013",
   "metadata": {},
   "outputs": [],
   "source": []
  },
  {
   "cell_type": "code",
   "execution_count": 10,
   "id": "f4af4940",
   "metadata": {},
   "outputs": [
    {
     "name": "stdout",
     "output_type": "stream",
     "text": [
      "[     1      2      3 445566      5     44]\n"
     ]
    }
   ],
   "source": [
    "a2 = [1,2,3,445566,5,44]\n",
    "a3 = np.array(a2,np.int32)\n",
    "print(a3)"
   ]
  },
  {
   "cell_type": "code",
   "execution_count": 11,
   "id": "9f2e4e15",
   "metadata": {},
   "outputs": [],
   "source": [
    "# int function define the storage if we allocate int8 it mean we have allocating 8 byte memorey"
   ]
  },
  {
   "cell_type": "markdown",
   "id": "296a844b",
   "metadata": {},
   "source": [
    "# ACCESS SPECIFIC ELEMENT"
   ]
  },
  {
   "cell_type": "code",
   "execution_count": 12,
   "id": "55b3e12f",
   "metadata": {},
   "outputs": [
    {
     "name": "stdout",
     "output_type": "stream",
     "text": [
      "7\n"
     ]
    }
   ],
   "source": [
    "a = [7,4,3,5,2,3]\n",
    "a4 = np.array(a)\n",
    "print(a4[0])"
   ]
  },
  {
   "cell_type": "code",
   "execution_count": 13,
   "id": "54b91c84",
   "metadata": {},
   "outputs": [
    {
     "name": "stdout",
     "output_type": "stream",
     "text": [
      "4\n"
     ]
    }
   ],
   "source": [
    "print(np.array(a[1]))"
   ]
  },
  {
   "cell_type": "markdown",
   "id": "d7e5c039",
   "metadata": {},
   "source": [
    "# ONE D-ARRAY"
   ]
  },
  {
   "cell_type": "code",
   "execution_count": 16,
   "id": "f244bed1",
   "metadata": {},
   "outputs": [
    {
     "name": "stdout",
     "output_type": "stream",
     "text": [
      "[2 1 5 5 3]\n"
     ]
    }
   ],
   "source": [
    "one_d = [2,1,5,5,3]\n",
    "d1 = np.array(one_d)\n",
    "print(d1)"
   ]
  },
  {
   "cell_type": "markdown",
   "id": "d105cb0c",
   "metadata": {},
   "source": [
    "# TWO D-ARRAY"
   ]
  },
  {
   "cell_type": "code",
   "execution_count": 17,
   "id": "a5178d49",
   "metadata": {},
   "outputs": [
    {
     "name": "stdout",
     "output_type": "stream",
     "text": [
      "[[1 2 3]\n",
      " [4 5 6]]\n"
     ]
    }
   ],
   "source": [
    "two_d = ([[1,2,3],[4,5,6]])\n",
    "d2 = np.array(two_d)\n",
    "print(d2)"
   ]
  },
  {
   "cell_type": "markdown",
   "id": "7eb5839a",
   "metadata": {},
   "source": [
    "# THREE D-ARRAY"
   ]
  },
  {
   "cell_type": "code",
   "execution_count": 18,
   "id": "771a94ea",
   "metadata": {},
   "outputs": [
    {
     "name": "stdout",
     "output_type": "stream",
     "text": [
      "[[[1 2]\n",
      "  [3 4]\n",
      "  [5 6]]]\n"
     ]
    }
   ],
   "source": [
    "three_d = ([[[1,2],[3,4],[5,6]]])\n",
    "d3 = np.array(three_d)\n",
    "print(d3)"
   ]
  },
  {
   "cell_type": "markdown",
   "id": "56894815",
   "metadata": {},
   "source": [
    "# METHOD"
   ]
  },
  {
   "cell_type": "markdown",
   "id": "f182d5cb",
   "metadata": {},
   "source": [
    "# SHAPE"
   ]
  },
  {
   "cell_type": "code",
   "execution_count": 25,
   "id": "bd5d5b0a",
   "metadata": {},
   "outputs": [
    {
     "name": "stdout",
     "output_type": "stream",
     "text": [
      "(5,)\n"
     ]
    }
   ],
   "source": [
    "one_d = [2,1,5,5,3]\n",
    "d1 = np.array(one_d)\n",
    "print(d1.shape)"
   ]
  },
  {
   "cell_type": "code",
   "execution_count": 28,
   "id": "443f19bf",
   "metadata": {},
   "outputs": [
    {
     "name": "stdout",
     "output_type": "stream",
     "text": [
      "(2, 3)\n"
     ]
    }
   ],
   "source": [
    "t = ([[43,4,2],[2,4,3]])\n",
    "t1 = np.array(t)\n",
    "print(t1.shape)"
   ]
  },
  {
   "cell_type": "code",
   "execution_count": 32,
   "id": "d32d4ae5",
   "metadata": {},
   "outputs": [
    {
     "name": "stdout",
     "output_type": "stream",
     "text": [
      "(1, 1, 1, 1, 2)\n"
     ]
    }
   ],
   "source": [
    "multi_level_array = ([[[[[5,6]]]]])\n",
    "f = np.array(multi_level_array)\n",
    "print(f.shape)"
   ]
  },
  {
   "cell_type": "markdown",
   "id": "32b4c355",
   "metadata": {},
   "source": [
    "# SIZE"
   ]
  },
  {
   "cell_type": "code",
   "execution_count": 29,
   "id": "79011f28",
   "metadata": {},
   "outputs": [
    {
     "name": "stdout",
     "output_type": "stream",
     "text": [
      "5\n"
     ]
    }
   ],
   "source": [
    "one_d = [2,1,5,5,3]\n",
    "d1 = np.array(one_d)\n",
    "print(d1.size)"
   ]
  },
  {
   "cell_type": "code",
   "execution_count": 31,
   "id": "220d7adc",
   "metadata": {},
   "outputs": [
    {
     "name": "stdout",
     "output_type": "stream",
     "text": [
      "6\n"
     ]
    }
   ],
   "source": [
    "t = ([[43,4,2],[2,4,3]])\n",
    "t1 = np.array(t)\n",
    "print(t1.size)"
   ]
  },
  {
   "cell_type": "code",
   "execution_count": 33,
   "id": "aa40cd3f",
   "metadata": {},
   "outputs": [
    {
     "name": "stdout",
     "output_type": "stream",
     "text": [
      "2\n"
     ]
    }
   ],
   "source": [
    "multi_level_array = ([[[[[5,6]]]]])\n",
    "f = np.array(multi_level_array)\n",
    "print(f.size)"
   ]
  },
  {
   "cell_type": "markdown",
   "id": "e20ec1f0",
   "metadata": {},
   "source": [
    "# dtype"
   ]
  },
  {
   "cell_type": "code",
   "execution_count": 34,
   "id": "2e60a9df",
   "metadata": {},
   "outputs": [
    {
     "name": "stdout",
     "output_type": "stream",
     "text": [
      "int32\n"
     ]
    }
   ],
   "source": [
    "t = ([[43,4,2],[2,4,3]])\n",
    "t1 = np.array(t)\n",
    "print(t1.dtype)"
   ]
  },
  {
   "cell_type": "code",
   "execution_count": 35,
   "id": "ffc660f5",
   "metadata": {},
   "outputs": [
    {
     "name": "stdout",
     "output_type": "stream",
     "text": [
      "int32\n"
     ]
    }
   ],
   "source": [
    "multi_level_array = ([[[[[5,6]]]]])\n",
    "f = np.array(multi_level_array)\n",
    "print(f.dtype)"
   ]
  },
  {
   "cell_type": "markdown",
   "id": "a9480f95",
   "metadata": {},
   "source": [
    "# REPLACING ELEMENT"
   ]
  },
  {
   "cell_type": "code",
   "execution_count": 40,
   "id": "7e46bcc6",
   "metadata": {},
   "outputs": [
    {
     "name": "stdout",
     "output_type": "stream",
     "text": [
      "[2 1 2 3 4 5]\n",
      "[0 1 2 3 4 5]\n"
     ]
    }
   ],
   "source": [
    "r = [2,1,2,3,4,5]\n",
    "r1 = np.array(r)\n",
    "print(r1)\n",
    "r1[0]= 0\n",
    "print(r1)"
   ]
  },
  {
   "cell_type": "code",
   "execution_count": 41,
   "id": "cb57c7e1",
   "metadata": {},
   "outputs": [
    {
     "name": "stdout",
     "output_type": "stream",
     "text": [
      "[[43  4  2]\n",
      " [ 5  4  3]]\n"
     ]
    }
   ],
   "source": [
    "t = ([[43,4,2],[2,4,3]])\n",
    "t1 = np.array(t)\n",
    "t1[1][0]= 5\n",
    "print(t1)"
   ]
  },
  {
   "cell_type": "markdown",
   "id": "e0f42cca",
   "metadata": {},
   "source": [
    "# INTRINSIC NUMPY"
   ]
  },
  {
   "cell_type": "markdown",
   "id": "16fb10bf",
   "metadata": {},
   "source": [
    "# ZEROS"
   ]
  },
  {
   "cell_type": "code",
   "execution_count": 44,
   "id": "5bfc37f3",
   "metadata": {},
   "outputs": [
    {
     "name": "stdout",
     "output_type": "stream",
     "text": [
      "[[0. 0. 0.]\n",
      " [0. 0. 0.]\n",
      " [0. 0. 0.]]\n"
     ]
    }
   ],
   "source": [
    "z = np.zeros((3,3))\n",
    "print(z)"
   ]
  },
  {
   "cell_type": "code",
   "execution_count": 45,
   "id": "7374d95f",
   "metadata": {},
   "outputs": [
    {
     "name": "stdout",
     "output_type": "stream",
     "text": [
      "[[0. 0. 0. 0.]\n",
      " [0. 0. 0. 0.]\n",
      " [0. 0. 0. 0.]\n",
      " [0. 0. 0. 0.]]\n"
     ]
    }
   ],
   "source": [
    "z1 = np.zeros((4,4))\n",
    "print(z1)"
   ]
  },
  {
   "cell_type": "markdown",
   "id": "65f02b29",
   "metadata": {},
   "source": [
    "# ARANGE"
   ]
  },
  {
   "cell_type": "code",
   "execution_count": 51,
   "id": "034669fb",
   "metadata": {},
   "outputs": [
    {
     "name": "stdout",
     "output_type": "stream",
     "text": [
      "[0 1 2 3 4 5]\n"
     ]
    }
   ],
   "source": [
    "r = np.arange(6)\n",
    "print(r)"
   ]
  },
  {
   "cell_type": "code",
   "execution_count": 53,
   "id": "1f4530aa",
   "metadata": {},
   "outputs": [
    {
     "name": "stdout",
     "output_type": "stream",
     "text": [
      "[0 1]\n"
     ]
    }
   ],
   "source": [
    "r1 = np.arange(2)\n",
    "print(r1)"
   ]
  },
  {
   "cell_type": "markdown",
   "id": "4cc631a2",
   "metadata": {},
   "source": [
    "# RESHAPE"
   ]
  },
  {
   "cell_type": "code",
   "execution_count": 61,
   "id": "962edbe1",
   "metadata": {},
   "outputs": [
    {
     "name": "stdout",
     "output_type": "stream",
     "text": [
      "[[0 1]\n",
      " [2 3]\n",
      " [4 5]]\n"
     ]
    }
   ],
   "source": [
    "r2 = [0,1,2,3,4,5]\n",
    "r3=np.array(r2)\n",
    "print(r3.reshape(3,2))"
   ]
  },
  {
   "cell_type": "code",
   "execution_count": 63,
   "id": "4a773c27",
   "metadata": {},
   "outputs": [
    {
     "name": "stdout",
     "output_type": "stream",
     "text": [
      "[[0 1 2]\n",
      " [3 4 5]\n",
      " [6 7 8]]\n"
     ]
    }
   ],
   "source": [
    "r2 = [0,1,2,3,4,5,6,7,8]\n",
    "r3=np.array(r2)\n",
    "print(r3.reshape(3,3))"
   ]
  },
  {
   "cell_type": "markdown",
   "id": "92aa9c7e",
   "metadata": {},
   "source": [
    "# RAVEL"
   ]
  },
  {
   "cell_type": "code",
   "execution_count": 70,
   "id": "ab056254",
   "metadata": {},
   "outputs": [
    {
     "name": "stdout",
     "output_type": "stream",
     "text": [
      "[[0 1]\n",
      " [2 3]\n",
      " [4 5]]\n",
      "[0 1 2 3 4 5]\n"
     ]
    }
   ],
   "source": [
    "r2 = [0,1,2,3,4,5]\n",
    "r3=np.array(r2)\n",
    "print(r3.reshape(3,2))\n",
    "print(r3.ravel())"
   ]
  },
  {
   "cell_type": "markdown",
   "id": "7e4bbd68",
   "metadata": {},
   "source": [
    "# LINSPACE"
   ]
  },
  {
   "cell_type": "code",
   "execution_count": 78,
   "id": "e0318e84",
   "metadata": {},
   "outputs": [
    {
     "name": "stdout",
     "output_type": "stream",
     "text": [
      "[1.         1.44444444 1.88888889 2.33333333 2.77777778 3.22222222\n",
      " 3.66666667 4.11111111 4.55555556 5.        ]\n"
     ]
    }
   ],
   "source": [
    "lspace = np.linspace(1,5,10)\n",
    "print(lspace)"
   ]
  },
  {
   "cell_type": "code",
   "execution_count": 9,
   "id": "675b8aa6",
   "metadata": {},
   "outputs": [
    {
     "name": "stdout",
     "output_type": "stream",
     "text": [
      "[2.         2.27272727 2.54545455 2.81818182 3.09090909 3.36363636\n",
      " 3.63636364 3.90909091 4.18181818 4.45454545 4.72727273 5.        ]\n"
     ]
    }
   ],
   "source": [
    "l = np.linspace(2,5,12)\n",
    "print(l)"
   ]
  },
  {
   "cell_type": "markdown",
   "id": "dee79084",
   "metadata": {},
   "source": [
    "# EMPTY"
   ]
  },
  {
   "cell_type": "code",
   "execution_count": 7,
   "id": "06f55ba9",
   "metadata": {},
   "outputs": [
    {
     "name": "stdout",
     "output_type": "stream",
     "text": [
      "[[0. 0. 0.]\n",
      " [0. 0. 0.]\n",
      " [0. 0. 0.]\n",
      " [0. 0. 0.]\n",
      " [0. 0. 0.]]\n"
     ]
    }
   ],
   "source": [
    "import numpy as np\n",
    "e = np.empty((5,3))\n",
    "print(e)"
   ]
  },
  {
   "cell_type": "markdown",
   "id": "018a6c18",
   "metadata": {},
   "source": [
    "# IDENTITY"
   ]
  },
  {
   "cell_type": "code",
   "execution_count": 2,
   "id": "e903cadf",
   "metadata": {},
   "outputs": [
    {
     "name": "stdout",
     "output_type": "stream",
     "text": [
      "[[1. 0. 0.]\n",
      " [0. 1. 0.]\n",
      " [0. 0. 1.]]\n"
     ]
    }
   ],
   "source": [
    "import numpy as np\n",
    "i = np.identity((3))\n",
    "print(i)"
   ]
  },
  {
   "cell_type": "code",
   "execution_count": 3,
   "id": "01d1df27",
   "metadata": {},
   "outputs": [
    {
     "name": "stdout",
     "output_type": "stream",
     "text": [
      "[[1. 0. 0. 0. 0.]\n",
      " [0. 1. 0. 0. 0.]\n",
      " [0. 0. 1. 0. 0.]\n",
      " [0. 0. 0. 1. 0.]\n",
      " [0. 0. 0. 0. 1.]]\n"
     ]
    }
   ],
   "source": [
    "i = np.identity(5)\n",
    "print(i)"
   ]
  },
  {
   "cell_type": "markdown",
   "id": "a54d3a3c",
   "metadata": {},
   "source": [
    "# ONES"
   ]
  },
  {
   "cell_type": "code",
   "execution_count": 90,
   "id": "0b328987",
   "metadata": {},
   "outputs": [
    {
     "name": "stdout",
     "output_type": "stream",
     "text": [
      "[[1. 1. 1.]\n",
      " [1. 1. 1.]\n",
      " [1. 1. 1.]]\n"
     ]
    }
   ],
   "source": [
    "o = np.ones((3,3))\n",
    "print(o)"
   ]
  },
  {
   "cell_type": "markdown",
   "id": "5709ac3e",
   "metadata": {},
   "source": [
    "# AXIS"
   ]
  },
  {
   "cell_type": "code",
   "execution_count": null,
   "id": "abd9fabf",
   "metadata": {},
   "outputs": [],
   "source": [
    "# axis = 0 mean horizental or row\n",
    "# axis = 1 mean vertical or columns"
   ]
  },
  {
   "cell_type": "code",
   "execution_count": 3,
   "id": "45089943",
   "metadata": {},
   "outputs": [
    {
     "name": "stdout",
     "output_type": "stream",
     "text": [
      "[5 7 9]\n"
     ]
    }
   ],
   "source": [
    "import numpy as np\n",
    "x = np.array([[1,2,3],[4,5,6]])\n",
    "print(x.sum(axis = 0))"
   ]
  },
  {
   "cell_type": "code",
   "execution_count": 13,
   "id": "11641dc8",
   "metadata": {},
   "outputs": [
    {
     "data": {
      "text/plain": [
       "array([5, 7, 9])"
      ]
     },
     "execution_count": 13,
     "metadata": {},
     "output_type": "execute_result"
    }
   ],
   "source": [
    "x = np.array([[1,2,3],[4,5,6]])\n",
    "x.sum(axis = 0)"
   ]
  },
  {
   "cell_type": "code",
   "execution_count": 15,
   "id": "5669f125",
   "metadata": {},
   "outputs": [
    {
     "data": {
      "text/plain": [
       "array([ 6, 15])"
      ]
     },
     "execution_count": 15,
     "metadata": {},
     "output_type": "execute_result"
    }
   ],
   "source": [
    "x = np.array([[1,2,3],[4,5,6]])\n",
    "x.sum(axis = 1)"
   ]
  },
  {
   "cell_type": "code",
   "execution_count": 18,
   "id": "69ffef2a",
   "metadata": {},
   "outputs": [
    {
     "name": "stdout",
     "output_type": "stream",
     "text": [
      "2\n"
     ]
    }
   ],
   "source": [
    "x = np.array([[1,2,3],[4,5,6]])\n",
    "print(x.ndim)"
   ]
  },
  {
   "cell_type": "code",
   "execution_count": 19,
   "id": "122e36ce",
   "metadata": {},
   "outputs": [
    {
     "name": "stdout",
     "output_type": "stream",
     "text": [
      "5\n"
     ]
    }
   ],
   "source": [
    "x = np.array([[1,2,3],[4,5,6]], ndmin = 5)\n",
    "print(x.ndim)"
   ]
  },
  {
   "cell_type": "code",
   "execution_count": 1,
   "id": "50388720",
   "metadata": {},
   "outputs": [
    {
     "name": "stdout",
     "output_type": "stream",
     "text": [
      "24\n",
      "int32\n"
     ]
    }
   ],
   "source": [
    "import numpy as np\n",
    "x = np.array([[1,2,3],[4,5,6]])\n",
    "print(x.nbytes)\n",
    "print(x.dtype)"
   ]
  },
  {
   "cell_type": "code",
   "execution_count": 22,
   "id": "a452feaf",
   "metadata": {},
   "outputs": [
    {
     "name": "stdout",
     "output_type": "stream",
     "text": [
      "2\n"
     ]
    }
   ],
   "source": [
    "x1 = np.array([1,3,46,9])\n",
    "print(x1.argmax())"
   ]
  },
  {
   "cell_type": "code",
   "execution_count": 24,
   "id": "5420f0c1",
   "metadata": {},
   "outputs": [
    {
     "name": "stdout",
     "output_type": "stream",
     "text": [
      "0\n"
     ]
    }
   ],
   "source": [
    "x1 = np.array([1,3,46,9])\n",
    "print(x1.argmin())"
   ]
  },
  {
   "cell_type": "code",
   "execution_count": 25,
   "id": "d1d6019d",
   "metadata": {},
   "outputs": [
    {
     "name": "stdout",
     "output_type": "stream",
     "text": [
      "[0 1 3 2]\n"
     ]
    }
   ],
   "source": [
    "x1 = np.array([1,3,46,9])\n",
    "print(x1.argsort())"
   ]
  },
  {
   "cell_type": "markdown",
   "id": "3d5de9f1",
   "metadata": {},
   "source": [
    "# prove that array is storage efficient then list"
   ]
  },
  {
   "cell_type": "code",
   "execution_count": 28,
   "id": "8b5da28f",
   "metadata": {},
   "outputs": [
    {
     "name": "stdout",
     "output_type": "stream",
     "text": [
      "112\n",
      "28\n"
     ]
    }
   ],
   "source": [
    "import sys\n",
    "import numpy as np\n",
    "python_array = [0,4,55,2]\n",
    "numpy_array = np.array([python_array])\n",
    "print(sys.getsizeof(1)*len(python_array))\n",
    "print(sys.getsizeof(1)*len(numpy_array))"
   ]
  },
  {
   "cell_type": "code",
   "execution_count": 36,
   "id": "16c66286",
   "metadata": {},
   "outputs": [
    {
     "name": "stdout",
     "output_type": "stream",
     "text": [
      "5\n"
     ]
    }
   ],
   "source": [
    "x = np.array([[[1,2],[3,4],[5,6]]])\n",
    "print(x.argmax())"
   ]
  },
  {
   "cell_type": "code",
   "execution_count": 37,
   "id": "c5ad513e",
   "metadata": {},
   "outputs": [
    {
     "name": "stdout",
     "output_type": "stream",
     "text": [
      "0\n"
     ]
    }
   ],
   "source": [
    "x = np.array([[[1,2],[3,4],[5,6]]])\n",
    "print(x.argmin())"
   ]
  },
  {
   "cell_type": "code",
   "execution_count": 38,
   "id": "cb2c6b7a",
   "metadata": {},
   "outputs": [
    {
     "name": "stdout",
     "output_type": "stream",
     "text": [
      "[[[0 1]\n",
      "  [0 1]\n",
      "  [0 1]]]\n"
     ]
    }
   ],
   "source": [
    "x = np.array([[[1,2],[3,4],[5,6]]])\n",
    "print(x.argsort())"
   ]
  },
  {
   "cell_type": "code",
   "execution_count": 1,
   "id": "e2cc63b3",
   "metadata": {},
   "outputs": [
    {
     "name": "stdout",
     "output_type": "stream",
     "text": [
      "[[[1 2]\n",
      "  [3 4]\n",
      "  [5 6]]]\n",
      "[[1 2]\n",
      " [3 4]\n",
      " [5 6]]\n"
     ]
    }
   ],
   "source": [
    "import numpy as np\n",
    "x = np.array([[[1,2],[3,4],[5,6]]])\n",
    "print(x)\n",
    "print(x.sum(axis = 0))"
   ]
  },
  {
   "cell_type": "code",
   "execution_count": 42,
   "id": "b7491870",
   "metadata": {},
   "outputs": [
    {
     "name": "stdout",
     "output_type": "stream",
     "text": [
      "[[0 0]\n",
      " [0 0]\n",
      " [0 0]]\n"
     ]
    }
   ],
   "source": [
    "x = np.array([[[1,2],[3,4],[5,6]]])\n",
    "print(x.argmax(axis = 0))"
   ]
  },
  {
   "cell_type": "markdown",
   "id": "58230971",
   "metadata": {},
   "source": [
    "# DAY 2"
   ]
  },
  {
   "cell_type": "markdown",
   "id": "ee56862e",
   "metadata": {},
   "source": [
    "# addition"
   ]
  },
  {
   "cell_type": "code",
   "execution_count": 2,
   "id": "f40d185a",
   "metadata": {},
   "outputs": [
    {
     "name": "stdout",
     "output_type": "stream",
     "text": [
      "[[ 2  4  4]\n",
      " [ 8  5 12]\n",
      " [15  2  0]]\n"
     ]
    }
   ],
   "source": [
    "import numpy as np\n",
    "a1 = np.array([[1,2,3],[4,5,6],[7,1,0]])\n",
    "a2 = np.array([[1,2,1],[4,0,6],[8,1,0]])\n",
    "print(a1+a2)"
   ]
  },
  {
   "cell_type": "markdown",
   "id": "edf80b9a",
   "metadata": {},
   "source": [
    "# multiplication"
   ]
  },
  {
   "cell_type": "code",
   "execution_count": 3,
   "id": "51ea6dc8",
   "metadata": {},
   "outputs": [
    {
     "name": "stdout",
     "output_type": "stream",
     "text": [
      "[[ 1  4  3]\n",
      " [16  0 36]\n",
      " [56  1  0]]\n"
     ]
    }
   ],
   "source": [
    "import numpy as np\n",
    "a1 = np.array([[1,2,3],[4,5,6],[7,1,0]])\n",
    "a2 = np.array([[1,2,1],[4,0,6],[8,1,0]])\n",
    "print(a1*a2)"
   ]
  },
  {
   "cell_type": "markdown",
   "id": "f7f1a8ad",
   "metadata": {},
   "source": [
    "\n",
    "# SQRT"
   ]
  },
  {
   "cell_type": "code",
   "execution_count": 4,
   "id": "7ff72943",
   "metadata": {},
   "outputs": [
    {
     "name": "stdout",
     "output_type": "stream",
     "text": [
      "[2. 3. 4. 6.]\n"
     ]
    }
   ],
   "source": [
    "s = np.array([4,9,16,36])\n",
    "print(np.sqrt(s))"
   ]
  },
  {
   "cell_type": "markdown",
   "id": "3a67391d",
   "metadata": {},
   "source": [
    "# SUM"
   ]
  },
  {
   "cell_type": "code",
   "execution_count": 4,
   "id": "3a83650b",
   "metadata": {},
   "outputs": [
    {
     "name": "stdout",
     "output_type": "stream",
     "text": [
      "65\n",
      "65\n",
      "36\n",
      "4\n"
     ]
    }
   ],
   "source": [
    "s = np.array([4,9,16,36])\n",
    "print(s.sum())\n",
    "print(np.sum(s))\n",
    "print(np.max(s))\n",
    "print(np.min(s))"
   ]
  },
  {
   "cell_type": "markdown",
   "id": "b7c5cc0a",
   "metadata": {},
   "source": [
    "# WHERE"
   ]
  },
  {
   "cell_type": "code",
   "execution_count": 9,
   "id": "cf2f2b7c",
   "metadata": {},
   "outputs": [
    {
     "name": "stdout",
     "output_type": "stream",
     "text": [
      "(array([1, 2], dtype=int64), array([2, 0], dtype=int64))\n"
     ]
    }
   ],
   "source": [
    "a1 = np.array([[1,2,3],[4,5,6],[7,1,0]])\n",
    "print(np.where(a1>5))"
   ]
  },
  {
   "cell_type": "markdown",
   "id": "23b8c438",
   "metadata": {},
   "source": [
    "# non zero"
   ]
  },
  {
   "cell_type": "code",
   "execution_count": 11,
   "id": "ce871630",
   "metadata": {},
   "outputs": [
    {
     "name": "stdout",
     "output_type": "stream",
     "text": [
      "[[1 2 3]\n",
      " [4 5 6]\n",
      " [7 1 0]]\n",
      "(array([0, 0, 0, 1, 1, 1, 2, 2], dtype=int64), array([0, 1, 2, 0, 1, 2, 0, 1], dtype=int64))\n"
     ]
    }
   ],
   "source": [
    "a1 = np.array([[1,2,3],[4,5,6],[7,1,0]])\n",
    "print(a1)\n",
    "print(np.nonzero(a1))"
   ]
  },
  {
   "cell_type": "markdown",
   "id": "1486d005",
   "metadata": {},
   "source": [
    "# CONCATENATE"
   ]
  },
  {
   "cell_type": "code",
   "execution_count": 13,
   "id": "395068e7",
   "metadata": {},
   "outputs": [
    {
     "name": "stdout",
     "output_type": "stream",
     "text": [
      "[1 2 3 4 5 6]\n"
     ]
    }
   ],
   "source": [
    "# list\n",
    "a1 = np.array([1,2,3])\n",
    "a2 = np.array([4,5,6])\n",
    "print(np.concatenate((a1,a2)))"
   ]
  },
  {
   "cell_type": "code",
   "execution_count": 21,
   "id": "59418073",
   "metadata": {},
   "outputs": [
    {
     "name": "stdout",
     "output_type": "stream",
     "text": [
      "[[1 2]\n",
      " [3 4]\n",
      " [5 6]\n",
      " [7 8]]\n",
      "\r\n",
      "[[1 2 5 6]\n",
      " [3 4 7 8]]\n"
     ]
    }
   ],
   "source": [
    "arr1 = np.array([[1,2],[3,4]])\n",
    "arr2 = np.array([[5,6],[7,8]])\n",
    "#print(np.concatenate((arr1,arr2)))\n",
    "print(np.concatenate((arr1,arr2), axis = 0))\n",
    "print('\\r')\n",
    "print(np.concatenate((arr1,arr2), axis = 1))\n"
   ]
  },
  {
   "cell_type": "markdown",
   "id": "be3e5968",
   "metadata": {},
   "source": [
    "# SLICING"
   ]
  },
  {
   "cell_type": "code",
   "execution_count": 23,
   "id": "91bcdfd3",
   "metadata": {},
   "outputs": [
    {
     "name": "stdout",
     "output_type": "stream",
     "text": [
      "[ 4  9 16 36]\n",
      "[4 9]\n",
      "[ 9 16 36]\n"
     ]
    }
   ],
   "source": [
    "s = np.array([4,9,16,36])\n",
    "print(s[:])\n",
    "print(s[0:2])\n",
    "print(s[1:])"
   ]
  },
  {
   "cell_type": "code",
   "execution_count": 31,
   "id": "5ce03fbf",
   "metadata": {},
   "outputs": [
    {
     "name": "stdout",
     "output_type": "stream",
     "text": [
      "[2 5]\n",
      "[2 5 8]\n",
      "[1 3 5 7 9]\n",
      "[1 4 7]\n"
     ]
    }
   ],
   "source": [
    "i = np.array([1,2,3,4,5,6,7,8,9])\n",
    "print(i[1:5:3])\n",
    "print(i[1:8:3])\n",
    "print(i[::2])\n",
    "print(i[::3])"
   ]
  },
  {
   "cell_type": "markdown",
   "id": "c55e94f5",
   "metadata": {},
   "source": [
    "# stacking"
   ]
  },
  {
   "cell_type": "code",
   "execution_count": 39,
   "id": "aec7e4b7",
   "metadata": {},
   "outputs": [
    {
     "name": "stdout",
     "output_type": "stream",
     "text": [
      "[[1 2 3]\n",
      " [4 5 6]]\n"
     ]
    }
   ],
   "source": [
    "a1 = np.array([1,2,3])\n",
    "a2 = np.array([4,5,6])\n",
    "print(np.stack((a1,a2)))"
   ]
  },
  {
   "cell_type": "code",
   "execution_count": 40,
   "id": "7b23d3e8",
   "metadata": {},
   "outputs": [
    {
     "name": "stdout",
     "output_type": "stream",
     "text": [
      "[[1 2 3]\n",
      " [4 5 6]]\n"
     ]
    }
   ],
   "source": [
    "a1 = np.array([1,2,3])\n",
    "a2 = np.array([4,5,6])\n",
    "print(np.vstack((a1,a2)))"
   ]
  },
  {
   "cell_type": "code",
   "execution_count": 41,
   "id": "a1f9237a",
   "metadata": {},
   "outputs": [
    {
     "name": "stdout",
     "output_type": "stream",
     "text": [
      "[1 2 3 4 5 6]\n"
     ]
    }
   ],
   "source": [
    "a1 = np.array([1,2,3])\n",
    "a2 = np.array([4,5,6])\n",
    "print(np.hstack((a1,a2)))"
   ]
  },
  {
   "cell_type": "code",
   "execution_count": 42,
   "id": "e9c6ff5f",
   "metadata": {},
   "outputs": [
    {
     "name": "stdout",
     "output_type": "stream",
     "text": [
      "[[[1 4]\n",
      "  [2 5]\n",
      "  [3 6]]]\n"
     ]
    }
   ],
   "source": [
    "a1 = np.array([1,2,3])\n",
    "a2 = np.array([4,5,6])\n",
    "print(np.dstack((a1,a2)))"
   ]
  },
  {
   "cell_type": "code",
   "execution_count": 49,
   "id": "e1abdb75",
   "metadata": {},
   "outputs": [
    {
     "name": "stdout",
     "output_type": "stream",
     "text": [
      "[[1 4]\n",
      " [2 5]\n",
      " [3 6]]\n"
     ]
    }
   ],
   "source": [
    "a1 = np.array([1,2,3])\n",
    "a2 = np.array([4,5,6])\n",
    "print(np.stack((a1,a2),axis=1))"
   ]
  },
  {
   "cell_type": "code",
   "execution_count": 50,
   "id": "f6b22102",
   "metadata": {},
   "outputs": [
    {
     "name": "stdout",
     "output_type": "stream",
     "text": [
      "[[1 2 3]\n",
      " [4 5 6]]\n"
     ]
    }
   ],
   "source": [
    "a1 = np.array([1,2,3])\n",
    "a2 = np.array([4,5,6])\n",
    "print(np.stack((a1,a2),axis=0))"
   ]
  },
  {
   "cell_type": "markdown",
   "id": "ad0fafec",
   "metadata": {},
   "source": [
    "# SPLITING\n"
   ]
  },
  {
   "cell_type": "code",
   "execution_count": 68,
   "id": "2dac0c14",
   "metadata": {},
   "outputs": [
    {
     "name": "stdout",
     "output_type": "stream",
     "text": [
      "[array([1]), array([2]), array([3])]\n"
     ]
    }
   ],
   "source": [
    "a1 = np.array([1,2,3])\n",
    "print(np.array_split(a1,3))"
   ]
  },
  {
   "cell_type": "code",
   "execution_count": 69,
   "id": "6b013fe6",
   "metadata": {},
   "outputs": [
    {
     "name": "stdout",
     "output_type": "stream",
     "text": [
      "[array([1]), array([2]), array([3])]\n"
     ]
    }
   ],
   "source": [
    "a1 = np.array([1,2,3])\n",
    "print(np.hsplit(a1,3))"
   ]
  },
  {
   "cell_type": "code",
   "execution_count": 84,
   "id": "5cb64744",
   "metadata": {},
   "outputs": [
    {
     "name": "stdout",
     "output_type": "stream",
     "text": [
      "[array([1, 2, 3]), array([4, 5, 6]), array([6, 7])]\n",
      "[4 5 6]\n"
     ]
    }
   ],
   "source": [
    "s = np.array([1,2,3,4,5,6,6,7])\n",
    "p=(np.array_split(s,3))\n",
    "print(p)\n",
    "print(p[1])"
   ]
  },
  {
   "cell_type": "code",
   "execution_count": 81,
   "id": "d5d246b7",
   "metadata": {},
   "outputs": [
    {
     "name": "stdout",
     "output_type": "stream",
     "text": [
      "[array([[1, 2, 3],\n",
      "       [3, 4, 5]]), array([[4, 5, 6],\n",
      "       [6, 7, 2]]), array([[6, 7],\n",
      "       [3, 5]])]\n"
     ]
    }
   ],
   "source": [
    "s = np.array([[1,2,3,4,5,6,6,7],[3,4,5,6,7,2,3,5]])\n",
    "print(np.array_split(s,3,axis = 1))"
   ]
  },
  {
   "cell_type": "markdown",
   "id": "34f147c4",
   "metadata": {},
   "source": [
    "# COPY"
   ]
  },
  {
   "cell_type": "code",
   "execution_count": 62,
   "id": "1866e7e1",
   "metadata": {},
   "outputs": [
    {
     "name": "stdout",
     "output_type": "stream",
     "text": [
      "[1 2 3 4 5]\n",
      "[1 2 3 4 5]\n"
     ]
    }
   ],
   "source": [
    "a = np.array([1,2,3,4,5])\n",
    "c = np.copy(a)\n",
    "print(a)\n",
    "print(c)"
   ]
  },
  {
   "cell_type": "code",
   "execution_count": 64,
   "id": "225e4983",
   "metadata": {},
   "outputs": [
    {
     "name": "stdout",
     "output_type": "stream",
     "text": [
      "[ 1  2  3  4 10]\n",
      "[1 2 3 4 5]\n"
     ]
    }
   ],
   "source": [
    "a = np.array([1,2,3,4,5])\n",
    "c = a.copy()\n",
    "a[-1] = 10\n",
    "print(a)\n",
    "print(c)"
   ]
  },
  {
   "cell_type": "markdown",
   "id": "bf7c65a8",
   "metadata": {},
   "source": [
    "# view"
   ]
  },
  {
   "cell_type": "code",
   "execution_count": 65,
   "id": "f6aea56f",
   "metadata": {},
   "outputs": [
    {
     "name": "stdout",
     "output_type": "stream",
     "text": [
      "[1 2 3 4 5]\n",
      "[1 2 3 4 5]\n"
     ]
    }
   ],
   "source": [
    "a = np.array([1,2,3,4,5])\n",
    "c = a.view()\n",
    "print(a)\n",
    "print(c)"
   ]
  },
  {
   "cell_type": "code",
   "execution_count": 66,
   "id": "32423b11",
   "metadata": {},
   "outputs": [
    {
     "name": "stdout",
     "output_type": "stream",
     "text": [
      "[ 1  2  3  4 10]\n",
      "[ 1  2  3  4 10]\n"
     ]
    }
   ],
   "source": [
    "a = np.array([1,2,3,4,5])\n",
    "c = a.view()\n",
    "a[-1] = 10\n",
    "print(a)\n",
    "print(c)"
   ]
  },
  {
   "cell_type": "code",
   "execution_count": 92,
   "id": "621038b9",
   "metadata": {},
   "outputs": [
    {
     "name": "stdout",
     "output_type": "stream",
     "text": [
      "[False False  True  True]\n",
      "[False  True False False]\n",
      "[73 75]\n",
      "[72]\n"
     ]
    }
   ],
   "source": [
    "fill = np.array([71,72,73,75])\n",
    "fill1 = fill>72\n",
    "fill2 = fill%2 == 0\n",
    "new_arr1 = fill[fill1]\n",
    "new_arr2 = fill[fill2]\n",
    "\n",
    "print(fill1)\n",
    "print(fill2)\n",
    "print(new_arr1)\n",
    "print(new_arr2)"
   ]
  },
  {
   "cell_type": "markdown",
   "id": "df2fc777",
   "metadata": {},
   "source": [
    "# FLIP"
   ]
  },
  {
   "cell_type": "code",
   "execution_count": 91,
   "id": "909676fd",
   "metadata": {},
   "outputs": [
    {
     "name": "stdout",
     "output_type": "stream",
     "text": [
      "[6 5 4 3 2 1]\n"
     ]
    }
   ],
   "source": [
    "i = np.array([1,2,3,4,5,6])\n",
    "print(np.flip(i))"
   ]
  },
  {
   "cell_type": "markdown",
   "id": "9c83cc17",
   "metadata": {},
   "source": [
    "# DAY 3"
   ]
  },
  {
   "cell_type": "markdown",
   "id": "3421c6ad",
   "metadata": {},
   "source": [
    "# PANDAS"
   ]
  },
  {
   "cell_type": "markdown",
   "id": "a71a8d86",
   "metadata": {},
   "source": [
    "# DATAFRAME"
   ]
  },
  {
   "cell_type": "code",
   "execution_count": 17,
   "id": "ba9a5f2e",
   "metadata": {},
   "outputs": [
    {
     "name": "stdout",
     "output_type": "stream",
     "text": [
      "      name  marks    city\n",
      "0   ghayur    975  m garh\n",
      "1   waseem    875  dokota\n",
      "2   abbasi    950  mailsi\n",
      "3  wafadar    875  m garh\n"
     ]
    }
   ],
   "source": [
    "import numpy as np\n",
    "import pandas as pd\n",
    "dict = {\n",
    "    'name':[\"ghayur\",\"waseem\",\"abbasi\",\"wafadar\"],\n",
    "    'marks':[975,875,950,875],\n",
    "    'city':[\"m garh\",\"dokota\",\"mailsi\",\"m garh\"]\n",
    "}\n",
    "pdf = pd.DataFrame(dict)\n",
    "pdf.to_csv(\"marks data.csv\")\n",
    "print(pdf)"
   ]
  },
  {
   "cell_type": "markdown",
   "id": "eb682100",
   "metadata": {},
   "source": [
    "# HEAD"
   ]
  },
  {
   "cell_type": "code",
   "execution_count": 12,
   "id": "eca5c51c",
   "metadata": {},
   "outputs": [
    {
     "name": "stdout",
     "output_type": "stream",
     "text": [
      "     name  marks    city\n",
      "0  ghayur    975  m garh\n",
      "1  waseem    875  dokota\n"
     ]
    }
   ],
   "source": [
    "print(pdf.head(2))"
   ]
  },
  {
   "cell_type": "code",
   "execution_count": 13,
   "id": "e5af1806",
   "metadata": {},
   "outputs": [
    {
     "name": "stdout",
     "output_type": "stream",
     "text": [
      "      name  marks    city\n",
      "0   ghayur    975  m garh\n",
      "1   waseem    875  dokota\n",
      "2   abbasi    950  mailsi\n",
      "3  wafadar    875  m garh\n"
     ]
    }
   ],
   "source": [
    "print(pdf.head())"
   ]
  },
  {
   "cell_type": "markdown",
   "id": "afe906b1",
   "metadata": {},
   "source": [
    "# TAIL"
   ]
  },
  {
   "cell_type": "code",
   "execution_count": 2,
   "id": "2c36099a",
   "metadata": {},
   "outputs": [
    {
     "name": "stdout",
     "output_type": "stream",
     "text": [
      "      name  marks    city\n",
      "2   abbasi    950  mailsi\n",
      "3  wafadar    875  m garh\n"
     ]
    }
   ],
   "source": [
    "import numpy as np\n",
    "import pandas as pd\n",
    "dict = {\n",
    "    'name':[\"ghayur\",\"waseem\",\"abbasi\",\"wafadar\"],\n",
    "    'marks':[975,875,950,875],\n",
    "    'city':[\"m garh\",\"dokota\",\"mailsi\",\"m garh\"]\n",
    "}\n",
    "pdf = pd.DataFrame(dict)\n",
    "print(pdf.tail(2))"
   ]
  },
  {
   "cell_type": "code",
   "execution_count": 3,
   "id": "a27543a0",
   "metadata": {},
   "outputs": [
    {
     "name": "stdout",
     "output_type": "stream",
     "text": [
      "      name  marks    city\n",
      "0   ghayur    975  m garh\n",
      "1   waseem    875  dokota\n",
      "2   abbasi    950  mailsi\n",
      "3  wafadar    875  m garh\n"
     ]
    }
   ],
   "source": [
    "print(pdf.tail())"
   ]
  },
  {
   "cell_type": "markdown",
   "id": "ac3d62f2",
   "metadata": {},
   "source": [
    "# DESCRIBE"
   ]
  },
  {
   "cell_type": "code",
   "execution_count": 5,
   "id": "9a7bcc32",
   "metadata": {},
   "outputs": [
    {
     "name": "stdout",
     "output_type": "stream",
     "text": [
      "           marks\n",
      "count    4.00000\n",
      "mean   918.75000\n",
      "std     51.53882\n",
      "min    875.00000\n",
      "25%    875.00000\n",
      "50%    912.50000\n",
      "75%    956.25000\n",
      "max    975.00000\n"
     ]
    }
   ],
   "source": [
    "# it will describe all about numerical data\n",
    "print(pdf.describe())"
   ]
  },
  {
   "cell_type": "markdown",
   "id": "4e5f7ecd",
   "metadata": {},
   "source": [
    "# READ CSV FILE"
   ]
  },
  {
   "cell_type": "code",
   "execution_count": 10,
   "id": "42aae0b4",
   "metadata": {},
   "outputs": [
    {
     "name": "stdout",
     "output_type": "stream",
     "text": [
      "  Train No  Speed      City\n",
      "0      22U     81    Lahore\n",
      "1      14D     70   Karachi\n",
      "2      10D     75    Quetta\n",
      "3      33U     65  Peshawar\n"
     ]
    }
   ],
   "source": [
    "import pandas as pd\n",
    "df = pd.read_csv(\"train.csv\")\n",
    "print(df)\n"
   ]
  },
  {
   "cell_type": "code",
   "execution_count": 14,
   "id": "dc173169",
   "metadata": {},
   "outputs": [
    {
     "name": "stdout",
     "output_type": "stream",
     "text": [
      "0    81\n",
      "1    70\n",
      "2    75\n",
      "3    65\n",
      "Name: Speed, dtype: int64\n"
     ]
    }
   ],
   "source": [
    "print(df[\"Speed\"])"
   ]
  },
  {
   "cell_type": "code",
   "execution_count": 17,
   "id": "9286955c",
   "metadata": {},
   "outputs": [
    {
     "name": "stdout",
     "output_type": "stream",
     "text": [
      "  Train No  Speed      City\n",
      "0      22U     81    Lahore\n",
      "1      14D     90   Karachi\n",
      "2      10D     75    Quetta\n",
      "3      33U     65  Peshawar\n"
     ]
    },
    {
     "name": "stderr",
     "output_type": "stream",
     "text": [
      "C:\\Users\\Administrator\\AppData\\Local\\Temp\\ipykernel_3740\\3779487539.py:1: SettingWithCopyWarning: \n",
      "A value is trying to be set on a copy of a slice from a DataFrame\n",
      "\n",
      "See the caveats in the documentation: https://pandas.pydata.org/pandas-docs/stable/user_guide/indexing.html#returning-a-view-versus-a-copy\n",
      "  df[\"Speed\"][1] = 90\n"
     ]
    }
   ],
   "source": [
    "df[\"Speed\"][1] = 90\n",
    "print(df)"
   ]
  },
  {
   "cell_type": "code",
   "execution_count": 18,
   "id": "f957921d",
   "metadata": {},
   "outputs": [
    {
     "name": "stdout",
     "output_type": "stream",
     "text": [
      "  Train No  Speed      City\n",
      "0      22U     81    Lahore\n",
      "1      14D     90   Karachi\n",
      "2      10D     75    Quetta\n",
      "3      33U     65  Peshawar\n"
     ]
    }
   ],
   "source": [
    "# it will override the excel indexing\n",
    "df.to_csv(\"train2.csv\",index=False)\n",
    "print(df)"
   ]
  },
  {
   "cell_type": "markdown",
   "id": "9a194d37",
   "metadata": {},
   "source": [
    "# SERIES"
   ]
  },
  {
   "cell_type": "code",
   "execution_count": 4,
   "id": "2a2f3421",
   "metadata": {},
   "outputs": [
    {
     "name": "stdout",
     "output_type": "stream",
     "text": [
      "0     0.718857\n",
      "1     0.627276\n",
      "2     0.086540\n",
      "3     0.308797\n",
      "4     0.795409\n",
      "        ...   \n",
      "95    0.077935\n",
      "96    0.191763\n",
      "97    0.589845\n",
      "98    0.511298\n",
      "99    0.415124\n",
      "Length: 100, dtype: float64\n"
     ]
    }
   ],
   "source": [
    "import numpy as np\n",
    "import pandas as pd\n",
    "sr = pd.Series(np.random.rand(100))\n",
    "print(sr)"
   ]
  },
  {
   "cell_type": "markdown",
   "id": "ba0631cc",
   "metadata": {},
   "source": []
  },
  {
   "cell_type": "code",
   "execution_count": 5,
   "id": "9b5add8c",
   "metadata": {},
   "outputs": [
    {
     "name": "stdout",
     "output_type": "stream",
     "text": [
      "           0         1         2         3         4\n",
      "0   0.138539  0.670904  0.608348  0.754440  0.745276\n",
      "1   0.102114  0.970152  0.030832  0.894518  0.528816\n",
      "2   0.339483  0.975843  0.300823  0.562222  0.895624\n",
      "3   0.227656  0.906127  0.416459  0.645781  0.501691\n",
      "4   0.104325  0.423600  0.188278  0.096609  0.218623\n",
      "..       ...       ...       ...       ...       ...\n",
      "95  0.116329  0.698458  0.426150  0.552274  0.258438\n",
      "96  0.166687  0.524580  0.065409  0.043642  0.306076\n",
      "97  0.463220  0.740360  0.716583  0.968224  0.610061\n",
      "98  0.740513  0.385430  0.439321  0.773341  0.210739\n",
      "99  0.767631  0.509351  0.181298  0.442191  0.625717\n",
      "\n",
      "[100 rows x 5 columns]\n"
     ]
    }
   ],
   "source": [
    "new_df = pd.DataFrame(np.random.rand(100,5))\n",
    "print(new_df)"
   ]
  },
  {
   "cell_type": "code",
   "execution_count": 6,
   "id": "124a95a4",
   "metadata": {},
   "outputs": [
    {
     "name": "stdout",
     "output_type": "stream",
     "text": [
      "           0         1         2         3         4\n",
      "0   0.175308  0.705088  0.762862  0.569843  0.780843\n",
      "1   0.319452  0.797450  0.026815  0.850854  0.176900\n",
      "2   0.668731  0.737345  0.205142  0.421783  0.963488\n",
      "3   0.974965  0.735314  0.932024  0.892929  0.985574\n",
      "4   0.861701  0.456065  0.215219  0.512216  0.136328\n",
      "..       ...       ...       ...       ...       ...\n",
      "95  0.029110  0.485132  0.116373  0.421584  0.420155\n",
      "96  0.539918  0.169009  0.205321  0.472994  0.668802\n",
      "97  0.045681  0.797353  0.505919  0.719599  0.014682\n",
      "98  0.351928  0.522831  0.004508  0.718505  0.423461\n",
      "99  0.719572  0.643123  0.750068  0.775942  0.774845\n",
      "\n",
      "[100 rows x 5 columns]\n"
     ]
    }
   ],
   "source": [
    "new_df = pd.DataFrame(np.random.rand(100,5),index= np.arange(100))\n",
    "print(new_df)"
   ]
  },
  {
   "cell_type": "code",
   "execution_count": 25,
   "id": "d54de527",
   "metadata": {},
   "outputs": [
    {
     "name": "stdout",
     "output_type": "stream",
     "text": [
      "           0         1         2         3         4\n",
      "0   0.211997  0.565431  0.053296  0.672894  0.143203\n",
      "1   0.711047  0.580650  0.340208  0.667409  0.398879\n",
      "2   0.639021  0.271338  0.558136  0.725831  0.618024\n",
      "3   0.568219  0.805542  0.250923  0.622163  0.024855\n",
      "4   0.426478  0.357677  0.701669  0.284773  0.163024\n",
      "5   0.705229  0.241928  0.645312  0.345589  0.558754\n",
      "6   0.761644  0.552253  0.637754  0.084746  0.747250\n",
      "7   0.728629  0.572719  0.920281  0.930203  0.880984\n",
      "8   0.713171  0.967418  0.454549  0.511946  0.561629\n",
      "9   0.133753  0.623412  0.308606  0.711228  0.314419\n",
      "10  0.562491  0.868200  0.946874  0.479094  0.055882\n",
      "11  0.818235  0.510150  0.046299  0.960188  0.889173\n",
      "12  0.052882  0.959600  0.659203  0.142674  0.452512\n",
      "13  0.603462  0.961894  0.765920  0.046706  0.375471\n",
      "14  0.961320  0.358681  0.197755  0.720642  0.323486\n",
      "15  0.304061  0.358128  0.734491  0.090900  0.907949\n",
      "16  0.767832  0.761794  0.210125  0.273351  0.084859\n",
      "17  0.154584  0.448940  0.222715  0.065003  0.352625\n",
      "18  0.011544  0.079631  0.445335  0.720642  0.089201\n",
      "19  0.193988  0.859652  0.862880  0.798049  0.997385\n",
      "20  0.991114  0.268066  0.902681  0.224821  0.550217\n",
      "21  0.516440  0.660036  0.496991  0.183039  0.186715\n",
      "22  0.803551  0.567518  0.351446  0.212810  0.416279\n",
      "23  0.660715  0.453075  0.293795  0.584607  0.278185\n",
      "24  0.418306  0.838696  0.826858  0.960983  0.505454\n",
      "25  0.719536  0.800044  0.175921  0.736160  0.853464\n",
      "26  0.031411  0.457958  0.721182  0.119663  0.804070\n",
      "27  0.791458  0.960373  0.883292  0.575365  0.690911\n",
      "28  0.671860  0.180598  0.570937  0.605241  0.868893\n",
      "29  0.228104  0.479403  0.270652  0.717207  0.917584\n",
      "30  0.299510  0.798487  0.818069  0.531953  0.679111\n",
      "31  0.349886  0.060388  0.013257  0.075973  0.561419\n",
      "32  0.253719  0.623168  0.008129  0.604695  0.807694\n",
      "33  0.377586  0.599859  0.324881  0.856598  0.479543\n",
      "34  0.356341  0.120711  0.662060  0.195358  0.034698\n",
      "35  0.817273  0.463959  0.000730  0.360712  0.298890\n",
      "36  0.881251  0.986648  0.290366  0.137103  0.805951\n",
      "37  0.930090  0.899846  0.135459  0.053508  0.278483\n",
      "38  0.800993  0.089789  0.246237  0.572890  0.020083\n",
      "39  0.004211  0.440999  0.270120  0.191658  0.229092\n",
      "40  0.660993  0.933697  0.137999  0.227048  0.734230\n",
      "41  0.145184  0.378546  0.965779  0.037242  0.340636\n",
      "42  0.676608  0.755546  0.725349  0.133754  0.322892\n",
      "43  0.810807  0.203259  0.056736  0.402914  0.988717\n",
      "44  0.634325  0.701777  0.317237  0.673837  0.920096\n",
      "45  0.546655  0.461779  0.755061  0.269009  0.810381\n",
      "46  0.899967  0.838315  0.115855  0.739945  0.648932\n",
      "47  0.336924  0.873818  0.105102  0.319460  0.141325\n",
      "48  0.030407  0.578961  0.573133  0.211382  0.423323\n",
      "49  0.796962  0.102919  0.213095  0.001581  0.868404\n",
      "50  0.182489  0.178740  0.753091  0.967181  0.709786\n",
      "51  0.461909  0.524296  0.170856  0.629277  0.845613\n",
      "52  0.276134  0.296680  0.713107  0.433452  0.484565\n",
      "53  0.103308  0.556095  0.088557  0.259432  0.591575\n",
      "54  0.778133  0.618045  0.592217  0.114523  0.316721\n",
      "55  0.496632  0.614943  0.370425  0.165076  0.952406\n",
      "56  0.024666  0.503054  0.313800  0.643683  0.109793\n",
      "57  0.408141  0.405028  0.602611  0.062574  0.947485\n",
      "58  0.082225  0.252083  0.538313  0.942953  0.941390\n",
      "59  0.910893  0.343939  0.376234  0.673772  0.192305\n",
      "60  0.347795  0.869778  0.659573  0.629002  0.719871\n",
      "61  0.457263  0.887575  0.406457  0.824531  0.062668\n",
      "62  0.704081  0.811807  0.524012  0.331586  0.629792\n",
      "63  0.105411  0.045542  0.805580  0.397605  0.128493\n",
      "64  0.321622  0.755230  0.429444  0.618539  0.044478\n",
      "65  0.689707  0.885506  0.003094  0.355598  0.360199\n",
      "66  0.362019  0.637465  0.193505  0.286479  0.423249\n",
      "67  0.254820  0.468153  0.626894  0.693084  0.168853\n",
      "68  0.324354  0.427569  0.847201  0.168792  0.075450\n",
      "69  0.032969  0.079022  0.962076  0.051404  0.371500\n",
      "70  0.360266  0.369334  0.650678  0.423789  0.219129\n",
      "71  0.559495  0.222052  0.717384  0.522834  0.255829\n",
      "72  0.084050  0.971439  0.263900  0.057397  0.620074\n",
      "73  0.679043  0.116460  0.263985  0.435898  0.192992\n",
      "74  0.373618  0.678647  0.807551  0.371063  0.903560\n",
      "75  0.552743  0.839352  0.884490  0.455721  0.681375\n",
      "76  0.360874  0.760671  0.609104  0.115807  0.168917\n",
      "77  0.755527  0.504898  0.438686  0.929786  0.350744\n",
      "78  0.313821  0.378007  0.290021  0.837510  0.316724\n",
      "79  0.106601  0.296276  0.879144  0.777621  0.607655\n",
      "80  0.641935  0.138054  0.279481  0.556330  0.763167\n",
      "81  0.571989  0.384494  0.635275  0.289587  0.482328\n",
      "82  0.265972  0.754339  0.077361  0.058988  0.484163\n",
      "83  0.227183  0.853687  0.588355  0.385992  0.833382\n",
      "84  0.197490  0.529661  0.776074  0.797492  0.679187\n",
      "85  0.827928  0.025730  0.024412  0.501725  0.804992\n",
      "86  0.885336  0.321822  0.605597  0.820603  0.255834\n",
      "87  0.738289  0.863182  0.861007  0.899189  0.276651\n",
      "88  0.432707  0.353502  0.199644  0.199470  0.466820\n",
      "89  0.643132  0.997347  0.217092  0.268586  0.042571\n",
      "90  0.131815  0.176332  0.069660  0.602598  0.597976\n",
      "91  0.990904  0.086235  0.898928  0.899109  0.131944\n",
      "92  0.728421  0.524477  0.171057  0.965742  0.658974\n",
      "93  0.238231  0.366871  0.191007  0.017231  0.180742\n",
      "94  0.305174  0.876405  0.621973  0.261137  0.865623\n",
      "95  0.328113  0.374273  0.436902  0.671407  0.724995\n",
      "96  0.677663  0.961481  0.537131  0.665960  0.389119\n",
      "97  0.060463  0.768446  0.977617  0.315068  0.576758\n",
      "98  0.584779  0.201941  0.794731  0.265511  0.973375\n",
      "99  0.680894  0.654969  0.758216  0.049705  0.897447\n"
     ]
    }
   ],
   "source": [
    "print(new_df.to_string())"
   ]
  },
  {
   "cell_type": "code",
   "execution_count": 26,
   "id": "1cfcbd5f",
   "metadata": {},
   "outputs": [
    {
     "name": "stdout",
     "output_type": "stream",
     "text": [
      "          0         1         2         3         4\n",
      "0  0.211997  0.565431  0.053296  0.672894  0.143203\n",
      "1  0.711047  0.580650  0.340208  0.667409  0.398879\n",
      "2  0.639021  0.271338  0.558136  0.725831  0.618024\n",
      "3  0.568219  0.805542  0.250923  0.622163  0.024855\n",
      "4  0.426478  0.357677  0.701669  0.284773  0.163024\n"
     ]
    }
   ],
   "source": [
    "print(new_df.head())"
   ]
  },
  {
   "cell_type": "code",
   "execution_count": 27,
   "id": "17c28124",
   "metadata": {},
   "outputs": [
    {
     "name": "stdout",
     "output_type": "stream",
     "text": [
      "           0         1         2         3         4\n",
      "95  0.328113  0.374273  0.436902  0.671407  0.724995\n",
      "96  0.677663  0.961481  0.537131  0.665960  0.389119\n",
      "97  0.060463  0.768446  0.977617  0.315068  0.576758\n",
      "98  0.584779  0.201941  0.794731  0.265511  0.973375\n",
      "99  0.680894  0.654969  0.758216  0.049705  0.897447\n"
     ]
    }
   ],
   "source": [
    "print(new_df.tail())"
   ]
  },
  {
   "cell_type": "code",
   "execution_count": 28,
   "id": "80677287",
   "metadata": {},
   "outputs": [
    {
     "name": "stdout",
     "output_type": "stream",
     "text": [
      "Int64Index([ 0,  1,  2,  3,  4,  5,  6,  7,  8,  9, 10, 11, 12, 13, 14, 15, 16,\n",
      "            17, 18, 19, 20, 21, 22, 23, 24, 25, 26, 27, 28, 29, 30, 31, 32, 33,\n",
      "            34, 35, 36, 37, 38, 39, 40, 41, 42, 43, 44, 45, 46, 47, 48, 49, 50,\n",
      "            51, 52, 53, 54, 55, 56, 57, 58, 59, 60, 61, 62, 63, 64, 65, 66, 67,\n",
      "            68, 69, 70, 71, 72, 73, 74, 75, 76, 77, 78, 79, 80, 81, 82, 83, 84,\n",
      "            85, 86, 87, 88, 89, 90, 91, 92, 93, 94, 95, 96, 97, 98, 99],\n",
      "           dtype='int64')\n"
     ]
    }
   ],
   "source": [
    "print(new_df.index)"
   ]
  },
  {
   "cell_type": "code",
   "execution_count": 29,
   "id": "8bab6cb2",
   "metadata": {},
   "outputs": [
    {
     "name": "stdout",
     "output_type": "stream",
     "text": [
      "[[2.11996542e-01 5.65431438e-01 5.32956026e-02 6.72893765e-01\n",
      "  1.43203229e-01]\n",
      " [7.11046580e-01 5.80650453e-01 3.40207682e-01 6.67409160e-01\n",
      "  3.98879120e-01]\n",
      " [6.39020728e-01 2.71338418e-01 5.58135549e-01 7.25831334e-01\n",
      "  6.18023981e-01]\n",
      " [5.68218793e-01 8.05541536e-01 2.50923395e-01 6.22162889e-01\n",
      "  2.48548991e-02]\n",
      " [4.26477564e-01 3.57676910e-01 7.01668917e-01 2.84773398e-01\n",
      "  1.63023861e-01]\n",
      " [7.05228553e-01 2.41928147e-01 6.45311574e-01 3.45588512e-01\n",
      "  5.58754393e-01]\n",
      " [7.61644283e-01 5.52253188e-01 6.37753865e-01 8.47458309e-02\n",
      "  7.47250080e-01]\n",
      " [7.28628503e-01 5.72718857e-01 9.20281315e-01 9.30202726e-01\n",
      "  8.80984279e-01]\n",
      " [7.13170530e-01 9.67417501e-01 4.54549400e-01 5.11946060e-01\n",
      "  5.61628824e-01]\n",
      " [1.33753170e-01 6.23411946e-01 3.08606256e-01 7.11228260e-01\n",
      "  3.14419452e-01]\n",
      " [5.62490963e-01 8.68200458e-01 9.46874466e-01 4.79094042e-01\n",
      "  5.58817912e-02]\n",
      " [8.18235072e-01 5.10149685e-01 4.62987546e-02 9.60188282e-01\n",
      "  8.89172762e-01]\n",
      " [5.28819925e-02 9.59600351e-01 6.59203487e-01 1.42673946e-01\n",
      "  4.52511717e-01]\n",
      " [6.03461566e-01 9.61894420e-01 7.65919653e-01 4.67057146e-02\n",
      "  3.75471066e-01]\n",
      " [9.61320008e-01 3.58680608e-01 1.97755148e-01 7.20642476e-01\n",
      "  3.23486190e-01]\n",
      " [3.04060677e-01 3.58128037e-01 7.34491088e-01 9.09000953e-02\n",
      "  9.07949394e-01]\n",
      " [7.67832160e-01 7.61793865e-01 2.10125051e-01 2.73351300e-01\n",
      "  8.48593083e-02]\n",
      " [1.54583957e-01 4.48940488e-01 2.22715028e-01 6.50032531e-02\n",
      "  3.52624814e-01]\n",
      " [1.15439221e-02 7.96306626e-02 4.45334741e-01 7.20641796e-01\n",
      "  8.92008863e-02]\n",
      " [1.93987897e-01 8.59651879e-01 8.62879696e-01 7.98049307e-01\n",
      "  9.97385416e-01]\n",
      " [9.91113841e-01 2.68066412e-01 9.02680869e-01 2.24820926e-01\n",
      "  5.50217117e-01]\n",
      " [5.16440461e-01 6.60035909e-01 4.96990738e-01 1.83039220e-01\n",
      "  1.86715312e-01]\n",
      " [8.03550766e-01 5.67517509e-01 3.51445891e-01 2.12810428e-01\n",
      "  4.16279321e-01]\n",
      " [6.60715111e-01 4.53074591e-01 2.93795383e-01 5.84606748e-01\n",
      "  2.78184655e-01]\n",
      " [4.18305596e-01 8.38696084e-01 8.26857764e-01 9.60983121e-01\n",
      "  5.05454329e-01]\n",
      " [7.19535678e-01 8.00044060e-01 1.75920862e-01 7.36159623e-01\n",
      "  8.53463596e-01]\n",
      " [3.14113660e-02 4.57958095e-01 7.21182268e-01 1.19663443e-01\n",
      "  8.04069759e-01]\n",
      " [7.91457593e-01 9.60373039e-01 8.83292250e-01 5.75364507e-01\n",
      "  6.90911109e-01]\n",
      " [6.71859868e-01 1.80598010e-01 5.70936774e-01 6.05241400e-01\n",
      "  8.68893320e-01]\n",
      " [2.28103771e-01 4.79402623e-01 2.70651827e-01 7.17206703e-01\n",
      "  9.17584149e-01]\n",
      " [2.99510446e-01 7.98486925e-01 8.18068883e-01 5.31952604e-01\n",
      "  6.79110743e-01]\n",
      " [3.49885733e-01 6.03881592e-02 1.32566826e-02 7.59725322e-02\n",
      "  5.61418624e-01]\n",
      " [2.53718505e-01 6.23167753e-01 8.12901791e-03 6.04695113e-01\n",
      "  8.07693948e-01]\n",
      " [3.77585743e-01 5.99859174e-01 3.24881112e-01 8.56598205e-01\n",
      "  4.79542539e-01]\n",
      " [3.56340947e-01 1.20710875e-01 6.62060376e-01 1.95357648e-01\n",
      "  3.46980904e-02]\n",
      " [8.17272888e-01 4.63958628e-01 7.29938595e-04 3.60712225e-01\n",
      "  2.98890144e-01]\n",
      " [8.81250986e-01 9.86648326e-01 2.90365564e-01 1.37103415e-01\n",
      "  8.05951494e-01]\n",
      " [9.30090481e-01 8.99846328e-01 1.35459211e-01 5.35075133e-02\n",
      "  2.78483305e-01]\n",
      " [8.00993007e-01 8.97891947e-02 2.46237352e-01 5.72890084e-01\n",
      "  2.00833028e-02]\n",
      " [4.21145189e-03 4.40998502e-01 2.70120114e-01 1.91657745e-01\n",
      "  2.29092309e-01]\n",
      " [6.60993432e-01 9.33696532e-01 1.37998957e-01 2.27048454e-01\n",
      "  7.34229898e-01]\n",
      " [1.45183681e-01 3.78545740e-01 9.65778868e-01 3.72423828e-02\n",
      "  3.40636043e-01]\n",
      " [6.76607713e-01 7.55545544e-01 7.25349355e-01 1.33753855e-01\n",
      "  3.22891691e-01]\n",
      " [8.10807415e-01 2.03259082e-01 5.67357041e-02 4.02913966e-01\n",
      "  9.88716660e-01]\n",
      " [6.34324739e-01 7.01777300e-01 3.17236823e-01 6.73837408e-01\n",
      "  9.20096091e-01]\n",
      " [5.46654869e-01 4.61779330e-01 7.55060932e-01 2.69008599e-01\n",
      "  8.10381251e-01]\n",
      " [8.99966704e-01 8.38315124e-01 1.15854852e-01 7.39945203e-01\n",
      "  6.48931627e-01]\n",
      " [3.36924184e-01 8.73817763e-01 1.05101899e-01 3.19460003e-01\n",
      "  1.41325413e-01]\n",
      " [3.04073348e-02 5.78960504e-01 5.73132651e-01 2.11381895e-01\n",
      "  4.23322698e-01]\n",
      " [7.96962325e-01 1.02919018e-01 2.13094641e-01 1.58116023e-03\n",
      "  8.68403642e-01]\n",
      " [1.82489071e-01 1.78740141e-01 7.53090794e-01 9.67180738e-01\n",
      "  7.09785758e-01]\n",
      " [4.61909195e-01 5.24296049e-01 1.70855931e-01 6.29276674e-01\n",
      "  8.45612908e-01]\n",
      " [2.76133778e-01 2.96679696e-01 7.13107101e-01 4.33451923e-01\n",
      "  4.84565109e-01]\n",
      " [1.03307797e-01 5.56095210e-01 8.85572601e-02 2.59431943e-01\n",
      "  5.91574654e-01]\n",
      " [7.78133000e-01 6.18045282e-01 5.92217456e-01 1.14523453e-01\n",
      "  3.16721034e-01]\n",
      " [4.96632222e-01 6.14943027e-01 3.70424921e-01 1.65075720e-01\n",
      "  9.52405588e-01]\n",
      " [2.46660057e-02 5.03054376e-01 3.13799586e-01 6.43683223e-01\n",
      "  1.09793222e-01]\n",
      " [4.08141391e-01 4.05027575e-01 6.02610823e-01 6.25735113e-02\n",
      "  9.47485067e-01]\n",
      " [8.22247230e-02 2.52082827e-01 5.38312681e-01 9.42952945e-01\n",
      "  9.41389675e-01]\n",
      " [9.10892661e-01 3.43939392e-01 3.76233623e-01 6.73771607e-01\n",
      "  1.92305200e-01]\n",
      " [3.47795409e-01 8.69778421e-01 6.59573442e-01 6.29002401e-01\n",
      "  7.19870589e-01]\n",
      " [4.57263488e-01 8.87575213e-01 4.06457040e-01 8.24530811e-01\n",
      "  6.26678006e-02]\n",
      " [7.04081315e-01 8.11806573e-01 5.24011804e-01 3.31586340e-01\n",
      "  6.29792214e-01]\n",
      " [1.05411033e-01 4.55418421e-02 8.05579674e-01 3.97605416e-01\n",
      "  1.28492913e-01]\n",
      " [3.21621953e-01 7.55230086e-01 4.29443920e-01 6.18538875e-01\n",
      "  4.44777353e-02]\n",
      " [6.89706958e-01 8.85505766e-01 3.09404826e-03 3.55598381e-01\n",
      "  3.60199472e-01]\n",
      " [3.62018779e-01 6.37464960e-01 1.93504528e-01 2.86479091e-01\n",
      "  4.23249474e-01]\n",
      " [2.54820423e-01 4.68152834e-01 6.26893546e-01 6.93084465e-01\n",
      "  1.68853091e-01]\n",
      " [3.24353769e-01 4.27569233e-01 8.47200943e-01 1.68792145e-01\n",
      "  7.54499805e-02]\n",
      " [3.29688729e-02 7.90223527e-02 9.62076409e-01 5.14039545e-02\n",
      "  3.71500041e-01]\n",
      " [3.60266068e-01 3.69333704e-01 6.50678340e-01 4.23788884e-01\n",
      "  2.19129407e-01]\n",
      " [5.59494649e-01 2.22052159e-01 7.17384152e-01 5.22834154e-01\n",
      "  2.55828666e-01]\n",
      " [8.40495657e-02 9.71438614e-01 2.63899521e-01 5.73974650e-02\n",
      "  6.20073640e-01]\n",
      " [6.79042976e-01 1.16459594e-01 2.63984913e-01 4.35897859e-01\n",
      "  1.92992112e-01]\n",
      " [3.73617900e-01 6.78647236e-01 8.07550739e-01 3.71062911e-01\n",
      "  9.03559771e-01]\n",
      " [5.52742993e-01 8.39352246e-01 8.84489605e-01 4.55720979e-01\n",
      "  6.81374544e-01]\n",
      " [3.60873717e-01 7.60671133e-01 6.09103742e-01 1.15807477e-01\n",
      "  1.68917193e-01]\n",
      " [7.55526530e-01 5.04898461e-01 4.38685593e-01 9.29785792e-01\n",
      "  3.50744474e-01]\n",
      " [3.13820798e-01 3.78006936e-01 2.90020882e-01 8.37509696e-01\n",
      "  3.16723869e-01]\n",
      " [1.06601250e-01 2.96275704e-01 8.79143864e-01 7.77621360e-01\n",
      "  6.07654699e-01]\n",
      " [6.41934904e-01 1.38053933e-01 2.79481140e-01 5.56329986e-01\n",
      "  7.63167184e-01]\n",
      " [5.71988898e-01 3.84494229e-01 6.35274772e-01 2.89587348e-01\n",
      "  4.82327673e-01]\n",
      " [2.65971870e-01 7.54339105e-01 7.73605851e-02 5.89875810e-02\n",
      "  4.84162936e-01]\n",
      " [2.27183096e-01 8.53686570e-01 5.88354985e-01 3.85992007e-01\n",
      "  8.33381833e-01]\n",
      " [1.97489735e-01 5.29661004e-01 7.76073503e-01 7.97492486e-01\n",
      "  6.79187172e-01]\n",
      " [8.27927685e-01 2.57300750e-02 2.44122887e-02 5.01724774e-01\n",
      "  8.04991556e-01]\n",
      " [8.85335562e-01 3.21822326e-01 6.05597112e-01 8.20602790e-01\n",
      "  2.55833855e-01]\n",
      " [7.38289260e-01 8.63182128e-01 8.61006929e-01 8.99188891e-01\n",
      "  2.76651347e-01]\n",
      " [4.32707477e-01 3.53502009e-01 1.99643554e-01 1.99469747e-01\n",
      "  4.66819619e-01]\n",
      " [6.43131913e-01 9.97347191e-01 2.17091984e-01 2.68586004e-01\n",
      "  4.25710666e-02]\n",
      " [1.31814742e-01 1.76331596e-01 6.96596055e-02 6.02598152e-01\n",
      "  5.97976315e-01]\n",
      " [9.90904432e-01 8.62350989e-02 8.98927501e-01 8.99108653e-01\n",
      "  1.31944376e-01]\n",
      " [7.28421251e-01 5.24476822e-01 1.71056820e-01 9.65741595e-01\n",
      "  6.58973665e-01]\n",
      " [2.38230813e-01 3.66870933e-01 1.91006700e-01 1.72313371e-02\n",
      "  1.80742022e-01]\n",
      " [3.05173688e-01 8.76404608e-01 6.21972802e-01 2.61137137e-01\n",
      "  8.65622694e-01]\n",
      " [3.28113426e-01 3.74273374e-01 4.36901773e-01 6.71407114e-01\n",
      "  7.24995436e-01]\n",
      " [6.77662624e-01 9.61481358e-01 5.37131431e-01 6.65960470e-01\n",
      "  3.89118912e-01]\n",
      " [6.04625928e-02 7.68446076e-01 9.77617216e-01 3.15068223e-01\n",
      "  5.76757592e-01]\n",
      " [5.84779415e-01 2.01940732e-01 7.94731208e-01 2.65510625e-01\n",
      "  9.73375115e-01]\n",
      " [6.80894060e-01 6.54968558e-01 7.58216054e-01 4.97045194e-02\n",
      "  8.97447061e-01]]\n"
     ]
    }
   ],
   "source": [
    "print(new_df.to_numpy())"
   ]
  },
  {
   "cell_type": "code",
   "execution_count": 30,
   "id": "47790468",
   "metadata": {},
   "outputs": [
    {
     "name": "stdout",
     "output_type": "stream",
     "text": [
      "         0         1         2         3         4         5         6   \\\n",
      "0  0.211997  0.711047  0.639021  0.568219  0.426478  0.705229  0.761644   \n",
      "1  0.565431  0.580650  0.271338  0.805542  0.357677  0.241928  0.552253   \n",
      "2  0.053296  0.340208  0.558136  0.250923  0.701669  0.645312  0.637754   \n",
      "3  0.672894  0.667409  0.725831  0.622163  0.284773  0.345589  0.084746   \n",
      "4  0.143203  0.398879  0.618024  0.024855  0.163024  0.558754  0.747250   \n",
      "\n",
      "         7         8         9   ...        90        91        92        93  \\\n",
      "0  0.728629  0.713171  0.133753  ...  0.131815  0.990904  0.728421  0.238231   \n",
      "1  0.572719  0.967418  0.623412  ...  0.176332  0.086235  0.524477  0.366871   \n",
      "2  0.920281  0.454549  0.308606  ...  0.069660  0.898928  0.171057  0.191007   \n",
      "3  0.930203  0.511946  0.711228  ...  0.602598  0.899109  0.965742  0.017231   \n",
      "4  0.880984  0.561629  0.314419  ...  0.597976  0.131944  0.658974  0.180742   \n",
      "\n",
      "         94        95        96        97        98        99  \n",
      "0  0.305174  0.328113  0.677663  0.060463  0.584779  0.680894  \n",
      "1  0.876405  0.374273  0.961481  0.768446  0.201941  0.654969  \n",
      "2  0.621973  0.436902  0.537131  0.977617  0.794731  0.758216  \n",
      "3  0.261137  0.671407  0.665960  0.315068  0.265511  0.049705  \n",
      "4  0.865623  0.724995  0.389119  0.576758  0.973375  0.897447  \n",
      "\n",
      "[5 rows x 100 columns]\n"
     ]
    }
   ],
   "source": [
    "print(new_df.T)"
   ]
  },
  {
   "cell_type": "code",
   "execution_count": 31,
   "id": "3b8009fa",
   "metadata": {},
   "outputs": [
    {
     "name": "stdout",
     "output_type": "stream",
     "text": [
      "           0         1         2         3         4\n",
      "99  0.680894  0.654969  0.758216  0.049705  0.897447\n",
      "98  0.584779  0.201941  0.794731  0.265511  0.973375\n",
      "97  0.060463  0.768446  0.977617  0.315068  0.576758\n",
      "96  0.677663  0.961481  0.537131  0.665960  0.389119\n",
      "95  0.328113  0.374273  0.436902  0.671407  0.724995\n",
      "..       ...       ...       ...       ...       ...\n",
      "4   0.426478  0.357677  0.701669  0.284773  0.163024\n",
      "3   0.568219  0.805542  0.250923  0.622163  0.024855\n",
      "2   0.639021  0.271338  0.558136  0.725831  0.618024\n",
      "1   0.711047  0.580650  0.340208  0.667409  0.398879\n",
      "0   0.211997  0.565431  0.053296  0.672894  0.143203\n",
      "\n",
      "[100 rows x 5 columns]\n"
     ]
    }
   ],
   "source": [
    "print(new_df.sort_index(axis=0, ascending = False))"
   ]
  },
  {
   "cell_type": "code",
   "execution_count": 32,
   "id": "11e78187",
   "metadata": {},
   "outputs": [
    {
     "name": "stdout",
     "output_type": "stream",
     "text": [
      "             0         1         2         3         4\n",
      "0  1234.000000  0.565431  0.053296  0.672894  0.143203\n",
      "1     0.711047  0.580650  0.340208  0.667409  0.398879\n",
      "2     0.639021  0.271338  0.558136  0.725831  0.618024\n",
      "3     0.568219  0.805542  0.250923  0.622163  0.024855\n",
      "4     0.426478  0.357677  0.701669  0.284773  0.163024\n"
     ]
    }
   ],
   "source": [
    "view_df = new_df\n",
    "view_df[0][0]=1234\n",
    "print(view_df.head())"
   ]
  },
  {
   "cell_type": "markdown",
   "id": "078f7525",
   "metadata": {},
   "source": [
    "# VIEW"
   ]
  },
  {
   "cell_type": "code",
   "execution_count": 33,
   "id": "9d019c5a",
   "metadata": {},
   "outputs": [
    {
     "name": "stdout",
     "output_type": "stream",
     "text": [
      "             0         1         2         3         4\n",
      "0  1234.000000  0.565431  0.053296  0.672894  0.143203\n",
      "1     0.711047  0.580650  0.340208  0.667409  0.398879\n",
      "2     0.639021  0.271338  0.558136  0.725831  0.618024\n",
      "3     0.568219  0.805542  0.250923  0.622163  0.024855\n",
      "4     0.426478  0.357677  0.701669  0.284773  0.163024\n"
     ]
    }
   ],
   "source": [
    "new_df[0][0]=1234\n",
    "print(new_df.head())"
   ]
  },
  {
   "cell_type": "markdown",
   "id": "77513cb3",
   "metadata": {},
   "source": [
    "# copy"
   ]
  },
  {
   "cell_type": "code",
   "execution_count": 34,
   "id": "e49b122d",
   "metadata": {},
   "outputs": [
    {
     "name": "stdout",
     "output_type": "stream",
     "text": [
      "              0         1         2         3         4\n",
      "0   5678.000000  0.565431  0.053296  0.672894  0.143203\n",
      "1      0.711047  0.580650  0.340208  0.667409  0.398879\n",
      "2      0.639021  0.271338  0.558136  0.725831  0.618024\n",
      "3      0.568219  0.805542  0.250923  0.622163  0.024855\n",
      "4      0.426478  0.357677  0.701669  0.284773  0.163024\n",
      "..          ...       ...       ...       ...       ...\n",
      "95     0.328113  0.374273  0.436902  0.671407  0.724995\n",
      "96     0.677663  0.961481  0.537131  0.665960  0.389119\n",
      "97     0.060463  0.768446  0.977617  0.315068  0.576758\n",
      "98     0.584779  0.201941  0.794731  0.265511  0.973375\n",
      "99     0.680894  0.654969  0.758216  0.049705  0.897447\n",
      "\n",
      "[100 rows x 5 columns]\n"
     ]
    }
   ],
   "source": [
    "copy_df = new_df.copy()\n",
    "copy_df[0][0]=5678\n",
    "print(copy_df)"
   ]
  },
  {
   "cell_type": "markdown",
   "id": "fe4fd028",
   "metadata": {},
   "source": [
    "# difference between copy and view"
   ]
  },
  {
   "cell_type": "code",
   "execution_count": 35,
   "id": "595ba968",
   "metadata": {},
   "outputs": [
    {
     "name": "stdout",
     "output_type": "stream",
     "text": [
      "             0         1         2         3         4\n",
      "0  1234.000000  0.565431  0.053296  0.672894  0.143203\n",
      "1     0.711047  0.580650  0.340208  0.667409  0.398879\n",
      "2     0.639021  0.271338  0.558136  0.725831  0.618024\n"
     ]
    }
   ],
   "source": [
    "print(view_df.head(3))"
   ]
  },
  {
   "cell_type": "code",
   "execution_count": 36,
   "id": "262ffa00",
   "metadata": {},
   "outputs": [
    {
     "name": "stdout",
     "output_type": "stream",
     "text": [
      "             0         1         2         3         4\n",
      "0  5678.000000  0.565431  0.053296  0.672894  0.143203\n",
      "1     0.711047  0.580650  0.340208  0.667409  0.398879\n",
      "2     0.639021  0.271338  0.558136  0.725831  0.618024\n"
     ]
    }
   ],
   "source": [
    "print(copy_df.head(3))"
   ]
  },
  {
   "cell_type": "markdown",
   "id": "3f9d194e",
   "metadata": {},
   "source": [
    "# LOC FUNCTION"
   ]
  },
  {
   "cell_type": "code",
   "execution_count": 37,
   "id": "9ce078a3",
   "metadata": {},
   "outputs": [
    {
     "name": "stdout",
     "output_type": "stream",
     "text": [
      "             0         1         2         3         4\n",
      "0  4321.000000  0.565431  0.053296  0.672894  0.143203\n",
      "1     0.711047  0.580650  0.340208  0.667409  0.398879\n",
      "2     0.639021  0.271338  0.558136  0.725831  0.618024\n"
     ]
    }
   ],
   "source": [
    "loc_df = new_df\n",
    "loc_df.loc[0,0]=4321\n",
    "print(loc_df.head(3))"
   ]
  },
  {
   "cell_type": "code",
   "execution_count": 38,
   "id": "af97dbed",
   "metadata": {},
   "outputs": [
    {
     "name": "stdout",
     "output_type": "stream",
     "text": [
      "             A         B         C         D         E\n",
      "0  4321.000000  0.565431  0.053296  0.672894  0.143203\n",
      "1     0.711047  0.580650  0.340208  0.667409  0.398879\n",
      "2     0.639021  0.271338  0.558136  0.725831  0.618024\n"
     ]
    }
   ],
   "source": [
    "new_df.columns=list(\"ABCDE\")\n",
    "print(new_df.head(3))"
   ]
  },
  {
   "cell_type": "markdown",
   "id": "83aa9149",
   "metadata": {},
   "source": [
    "# DAY 4"
   ]
  },
  {
   "cell_type": "code",
   "execution_count": 50,
   "id": "269abdcd",
   "metadata": {},
   "outputs": [
    {
     "name": "stdout",
     "output_type": "stream",
     "text": [
      "           A         B         C         D         E\n",
      "0   0.103812  0.468474  0.859287  0.349166  0.185609\n",
      "1   0.511680  0.204882  0.263489  0.589505  0.895365\n",
      "2   0.380236  0.131411  0.945151  0.167400  0.690530\n",
      "3   0.944711  0.702896  0.546167  0.594436  0.903404\n",
      "4   0.924199  0.438872  0.904389  0.039238  0.350977\n",
      "5   0.234998  0.951546  0.521000  0.297437  0.679109\n",
      "6   0.164734  0.077882  0.465917  0.283837  0.743285\n",
      "7   0.008583  0.418011  0.576375  0.846319  0.036786\n",
      "8   0.746561  0.941830  0.427376  0.025858  0.878224\n",
      "9   0.182624  0.384800  0.508343  0.294174  0.464538\n",
      "10  0.036670  0.735343  0.047704  0.288377  0.177707\n",
      "11  0.550370  0.403481  0.694171  0.533740  0.398502\n",
      "12  0.582828  0.480664  0.807208  0.559791  0.289812\n",
      "13  0.059456  0.987773  0.725639  0.746979  0.850797\n",
      "14  0.942013  0.526855  0.158705  0.722046  0.953095\n"
     ]
    }
   ],
   "source": [
    "df = pd.DataFrame(np.random.rand(15,5),index = np.arange(15),columns=['A','B','C','D','E'])\n",
    "print(df)"
   ]
  },
  {
   "cell_type": "markdown",
   "id": "451dc0ee",
   "metadata": {},
   "source": [
    "# LOC"
   ]
  },
  {
   "cell_type": "code",
   "execution_count": 64,
   "id": "672c9e83",
   "metadata": {},
   "outputs": [
    {
     "name": "stdout",
     "output_type": "stream",
     "text": [
      "[0     False\n",
      "1      True\n",
      "2     False\n",
      "3     False\n",
      "4     False\n",
      "5     False\n",
      "6     False\n",
      "7     False\n",
      "8     False\n",
      "9     False\n",
      "10     True\n",
      "11    False\n",
      "12    False\n",
      "13    False\n",
      "14     True\n",
      "Name: C, dtype: bool]\n"
     ]
    }
   ],
   "source": [
    "print([df['C']<0.3])"
   ]
  },
  {
   "cell_type": "code",
   "execution_count": 65,
   "id": "ae231fe9",
   "metadata": {},
   "outputs": [
    {
     "name": "stdout",
     "output_type": "stream",
     "text": [
      "           A         B         C         D         E\n",
      "1   0.511680  0.204882  0.263489  0.589505  0.895365\n",
      "10  0.036670  0.735343  0.047704  0.288377  0.177707\n",
      "14  0.942013  0.526855  0.158705  0.722046  0.953095\n"
     ]
    }
   ],
   "source": [
    "print(df.loc[df[\"C\"]<0.3]) # loc is label based you have to spacify rows and columns"
   ]
  },
  {
   "cell_type": "code",
   "execution_count": 66,
   "id": "51d4bffb",
   "metadata": {},
   "outputs": [
    {
     "name": "stdout",
     "output_type": "stream",
     "text": [
      "           A         B         C         D         E\n",
      "1   0.511680  0.204882  0.263489  0.589505  0.895365\n",
      "10  0.036670  0.735343  0.047704  0.288377  0.177707\n",
      "14  0.942013  0.526855  0.158705  0.722046  0.953095\n"
     ]
    }
   ],
   "source": [
    "print(df.loc[(df[\"C\"]<0.4) & (df[\"D\"]>0.1)])"
   ]
  },
  {
   "cell_type": "code",
   "execution_count": 67,
   "id": "ed08bc25",
   "metadata": {},
   "outputs": [
    {
     "name": "stdout",
     "output_type": "stream",
     "text": [
      "           C         D\n",
      "0   0.859287  0.349166\n",
      "1   0.263489  0.589505\n",
      "2   0.945151  0.167400\n",
      "3   0.546167  0.594436\n",
      "4   0.904389  0.039238\n",
      "5   0.521000  0.297437\n",
      "6   0.465917  0.283837\n",
      "7   0.576375  0.846319\n",
      "8   0.427376  0.025858\n",
      "9   0.508343  0.294174\n",
      "10  0.047704  0.288377\n",
      "11  0.694171  0.533740\n",
      "12  0.807208  0.559791\n",
      "13  0.725639  0.746979\n",
      "14  0.158705  0.722046\n"
     ]
    }
   ],
   "source": [
    "print(df.loc[:,[\"C\",\"D\"]])"
   ]
  },
  {
   "cell_type": "code",
   "execution_count": 68,
   "id": "f6b4d45a",
   "metadata": {},
   "outputs": [
    {
     "name": "stdout",
     "output_type": "stream",
     "text": [
      "          A         B         C         D         E\n",
      "6  0.164734  0.077882  0.465917  0.283837  0.743285\n",
      "8  0.746561  0.941830  0.427376  0.025858  0.878224\n"
     ]
    }
   ],
   "source": [
    "print(df.loc[[6,8],:])"
   ]
  },
  {
   "cell_type": "markdown",
   "id": "cccf1893",
   "metadata": {},
   "source": [
    "# DROP"
   ]
  },
  {
   "cell_type": "code",
   "execution_count": 71,
   "id": "8bcc0297",
   "metadata": {},
   "outputs": [
    {
     "name": "stdout",
     "output_type": "stream",
     "text": [
      "           A         B         C         D\n",
      "0   0.103812  0.468474  0.859287  0.349166\n",
      "1   0.511680  0.204882  0.263489  0.589505\n",
      "2   0.380236  0.131411  0.945151  0.167400\n",
      "3   0.944711  0.702896  0.546167  0.594436\n",
      "4   0.924199  0.438872  0.904389  0.039238\n",
      "5   0.234998  0.951546  0.521000  0.297437\n",
      "6   0.164734  0.077882  0.465917  0.283837\n",
      "7   0.008583  0.418011  0.576375  0.846319\n",
      "8   0.746561  0.941830  0.427376  0.025858\n",
      "9   0.182624  0.384800  0.508343  0.294174\n",
      "10  0.036670  0.735343  0.047704  0.288377\n",
      "11  0.550370  0.403481  0.694171  0.533740\n",
      "12  0.582828  0.480664  0.807208  0.559791\n",
      "13  0.059456  0.987773  0.725639  0.746979\n",
      "14  0.942013  0.526855  0.158705  0.722046\n"
     ]
    }
   ],
   "source": [
    "print(df.drop([\"E\"], axis = 1))"
   ]
  },
  {
   "cell_type": "code",
   "execution_count": 73,
   "id": "8edcad45",
   "metadata": {},
   "outputs": [
    {
     "name": "stdout",
     "output_type": "stream",
     "text": [
      "           A         B         C         D         E\n",
      "1   0.511680  0.204882  0.263489  0.589505  0.895365\n",
      "2   0.380236  0.131411  0.945151  0.167400  0.690530\n",
      "3   0.944711  0.702896  0.546167  0.594436  0.903404\n",
      "4   0.924199  0.438872  0.904389  0.039238  0.350977\n",
      "5   0.234998  0.951546  0.521000  0.297437  0.679109\n",
      "6   0.164734  0.077882  0.465917  0.283837  0.743285\n",
      "7   0.008583  0.418011  0.576375  0.846319  0.036786\n",
      "8   0.746561  0.941830  0.427376  0.025858  0.878224\n",
      "9   0.182624  0.384800  0.508343  0.294174  0.464538\n",
      "10  0.036670  0.735343  0.047704  0.288377  0.177707\n",
      "11  0.550370  0.403481  0.694171  0.533740  0.398502\n",
      "12  0.582828  0.480664  0.807208  0.559791  0.289812\n",
      "13  0.059456  0.987773  0.725639  0.746979  0.850797\n",
      "14  0.942013  0.526855  0.158705  0.722046  0.953095\n"
     ]
    }
   ],
   "source": [
    "print(df.drop([0], axis = 0))"
   ]
  },
  {
   "cell_type": "code",
   "execution_count": 75,
   "id": "a5845478",
   "metadata": {},
   "outputs": [
    {
     "name": "stdout",
     "output_type": "stream",
     "text": [
      "           A         B         C         D         E\n",
      "0   0.103812  0.468474  0.859287  0.349166  0.185609\n",
      "1   0.511680  0.204882  0.263489  0.589505  0.895365\n",
      "2   0.380236  0.131411  0.945151  0.167400  0.690530\n",
      "3   0.944711  0.702896  0.546167  0.594436  0.903404\n",
      "4   0.924199  0.438872  0.904389  0.039238  0.350977\n",
      "6   0.164734  0.077882  0.465917  0.283837  0.743285\n",
      "7   0.008583  0.418011  0.576375  0.846319  0.036786\n",
      "8   0.746561  0.941830  0.427376  0.025858  0.878224\n",
      "9   0.182624  0.384800  0.508343  0.294174  0.464538\n",
      "10  0.036670  0.735343  0.047704  0.288377  0.177707\n",
      "11  0.550370  0.403481  0.694171  0.533740  0.398502\n",
      "12  0.582828  0.480664  0.807208  0.559791  0.289812\n",
      "13  0.059456  0.987773  0.725639  0.746979  0.850797\n",
      "14  0.942013  0.526855  0.158705  0.722046  0.953095\n"
     ]
    }
   ],
   "source": [
    "print(df.drop([5]))"
   ]
  },
  {
   "cell_type": "code",
   "execution_count": 76,
   "id": "8151c11c",
   "metadata": {},
   "outputs": [
    {
     "name": "stdout",
     "output_type": "stream",
     "text": [
      "           A         B         C         D         E\n",
      "0   0.103812  0.468474  0.859287  0.349166  0.185609\n",
      "1   0.511680  0.204882  0.263489  0.589505  0.895365\n",
      "2   0.380236  0.131411  0.945151  0.167400  0.690530\n",
      "3   0.944711  0.702896  0.546167  0.594436  0.903404\n",
      "4   0.924199  0.438872  0.904389  0.039238  0.350977\n",
      "7   0.008583  0.418011  0.576375  0.846319  0.036786\n",
      "8   0.746561  0.941830  0.427376  0.025858  0.878224\n",
      "9   0.182624  0.384800  0.508343  0.294174  0.464538\n",
      "10  0.036670  0.735343  0.047704  0.288377  0.177707\n",
      "11  0.550370  0.403481  0.694171  0.533740  0.398502\n",
      "12  0.582828  0.480664  0.807208  0.559791  0.289812\n",
      "13  0.059456  0.987773  0.725639  0.746979  0.850797\n",
      "14  0.942013  0.526855  0.158705  0.722046  0.953095\n"
     ]
    }
   ],
   "source": [
    "print(df.drop([5,6]))"
   ]
  },
  {
   "cell_type": "code",
   "execution_count": 77,
   "id": "40bcb3f2",
   "metadata": {},
   "outputs": [
    {
     "name": "stdout",
     "output_type": "stream",
     "text": [
      "           A         B         C         D         E\n",
      "0   0.103812  0.468474  0.859287  0.349166  0.185609\n",
      "1   0.511680  0.204882  0.263489  0.589505  0.895365\n",
      "2   0.380236  0.131411  0.945151  0.167400  0.690530\n",
      "3   0.944711  0.702896  0.546167  0.594436  0.903404\n",
      "4   0.924199  0.438872  0.904389  0.039238  0.350977\n",
      "5   0.234998  0.951546  0.521000  0.297437  0.679109\n",
      "6   0.164734  0.077882  0.465917  0.283837  0.743285\n",
      "7   0.008583  0.418011  0.576375  0.846319  0.036786\n",
      "8   0.746561  0.941830  0.427376  0.025858  0.878224\n",
      "9   0.182624  0.384800  0.508343  0.294174  0.464538\n",
      "10  0.036670  0.735343  0.047704  0.288377  0.177707\n",
      "11  0.550370  0.403481  0.694171  0.533740  0.398502\n",
      "12  0.582828  0.480664  0.807208  0.559791  0.289812\n",
      "13  0.059456  0.987773  0.725639  0.746979  0.850797\n",
      "14  0.942013  0.526855  0.158705  0.722046  0.953095\n"
     ]
    }
   ],
   "source": [
    "print(df) # it means that origional dataset is not changed"
   ]
  },
  {
   "cell_type": "code",
   "execution_count": 82,
   "id": "dcb01eb5",
   "metadata": {},
   "outputs": [
    {
     "name": "stdout",
     "output_type": "stream",
     "text": [
      "           A         B         C\n",
      "0   0.103812  0.468474  0.859287\n",
      "1   0.511680  0.204882  0.263489\n",
      "2   0.380236  0.131411  0.945151\n",
      "4   0.924199  0.438872  0.904389\n",
      "6   0.164734  0.077882  0.465917\n",
      "7   0.008583  0.418011  0.576375\n",
      "9   0.182624  0.384800  0.508343\n",
      "10  0.036670  0.735343  0.047704\n",
      "12  0.582828  0.480664  0.807208\n",
      "13  0.059456  0.987773  0.725639\n"
     ]
    }
   ],
   "source": [
    "df = df.drop(['D',\"E\"],axis = 1)\n",
    "df = df.drop([3,5,8,11,14])\n",
    "print(df)"
   ]
  },
  {
   "cell_type": "markdown",
   "id": "1616e616",
   "metadata": {},
   "source": [
    "# reset index"
   ]
  },
  {
   "cell_type": "code",
   "execution_count": 90,
   "id": "1a025d61",
   "metadata": {},
   "outputs": [
    {
     "name": "stdout",
     "output_type": "stream",
     "text": [
      "   index         A         B         C\n",
      "0      0  0.103812  0.468474  0.859287\n",
      "1      1  0.511680  0.204882  0.263489\n",
      "2      2  0.380236  0.131411  0.945151\n",
      "3      3  0.924199  0.438872  0.904389\n",
      "4      4  0.164734  0.077882  0.465917\n",
      "5      5  0.008583  0.418011  0.576375\n",
      "6      6  0.182624  0.384800  0.508343\n",
      "7      7  0.036670  0.735343  0.047704\n",
      "8      8  0.582828  0.480664  0.807208\n",
      "9      9  0.059456  0.987773  0.725639\n"
     ]
    }
   ],
   "source": [
    "print(df.reset_index())"
   ]
  },
  {
   "cell_type": "code",
   "execution_count": 92,
   "id": "c48f2580",
   "metadata": {},
   "outputs": [
    {
     "data": {
      "text/html": [
       "<div>\n",
       "<style scoped>\n",
       "    .dataframe tbody tr th:only-of-type {\n",
       "        vertical-align: middle;\n",
       "    }\n",
       "\n",
       "    .dataframe tbody tr th {\n",
       "        vertical-align: top;\n",
       "    }\n",
       "\n",
       "    .dataframe thead th {\n",
       "        text-align: right;\n",
       "    }\n",
       "</style>\n",
       "<table border=\"1\" class=\"dataframe\">\n",
       "  <thead>\n",
       "    <tr style=\"text-align: right;\">\n",
       "      <th></th>\n",
       "      <th>A</th>\n",
       "      <th>B</th>\n",
       "      <th>C</th>\n",
       "    </tr>\n",
       "  </thead>\n",
       "  <tbody>\n",
       "    <tr>\n",
       "      <th>0</th>\n",
       "      <td>0.103812</td>\n",
       "      <td>0.468474</td>\n",
       "      <td>0.859287</td>\n",
       "    </tr>\n",
       "    <tr>\n",
       "      <th>1</th>\n",
       "      <td>0.511680</td>\n",
       "      <td>0.204882</td>\n",
       "      <td>0.263489</td>\n",
       "    </tr>\n",
       "    <tr>\n",
       "      <th>2</th>\n",
       "      <td>0.380236</td>\n",
       "      <td>0.131411</td>\n",
       "      <td>0.945151</td>\n",
       "    </tr>\n",
       "    <tr>\n",
       "      <th>3</th>\n",
       "      <td>0.924199</td>\n",
       "      <td>0.438872</td>\n",
       "      <td>0.904389</td>\n",
       "    </tr>\n",
       "    <tr>\n",
       "      <th>4</th>\n",
       "      <td>0.164734</td>\n",
       "      <td>0.077882</td>\n",
       "      <td>0.465917</td>\n",
       "    </tr>\n",
       "    <tr>\n",
       "      <th>5</th>\n",
       "      <td>0.008583</td>\n",
       "      <td>0.418011</td>\n",
       "      <td>0.576375</td>\n",
       "    </tr>\n",
       "    <tr>\n",
       "      <th>6</th>\n",
       "      <td>0.182624</td>\n",
       "      <td>0.384800</td>\n",
       "      <td>0.508343</td>\n",
       "    </tr>\n",
       "    <tr>\n",
       "      <th>7</th>\n",
       "      <td>0.036670</td>\n",
       "      <td>0.735343</td>\n",
       "      <td>0.047704</td>\n",
       "    </tr>\n",
       "    <tr>\n",
       "      <th>8</th>\n",
       "      <td>0.582828</td>\n",
       "      <td>0.480664</td>\n",
       "      <td>0.807208</td>\n",
       "    </tr>\n",
       "    <tr>\n",
       "      <th>9</th>\n",
       "      <td>0.059456</td>\n",
       "      <td>0.987773</td>\n",
       "      <td>0.725639</td>\n",
       "    </tr>\n",
       "  </tbody>\n",
       "</table>\n",
       "</div>"
      ],
      "text/plain": [
       "          A         B         C\n",
       "0  0.103812  0.468474  0.859287\n",
       "1  0.511680  0.204882  0.263489\n",
       "2  0.380236  0.131411  0.945151\n",
       "3  0.924199  0.438872  0.904389\n",
       "4  0.164734  0.077882  0.465917\n",
       "5  0.008583  0.418011  0.576375\n",
       "6  0.182624  0.384800  0.508343\n",
       "7  0.036670  0.735343  0.047704\n",
       "8  0.582828  0.480664  0.807208\n",
       "9  0.059456  0.987773  0.725639"
      ]
     },
     "execution_count": 92,
     "metadata": {},
     "output_type": "execute_result"
    }
   ],
   "source": [
    "df.reset_index(drop=True, inplace = True)\n",
    "df"
   ]
  },
  {
   "cell_type": "markdown",
   "id": "45ee5429",
   "metadata": {},
   "source": [
    "# ILOC"
   ]
  },
  {
   "cell_type": "code",
   "execution_count": 94,
   "id": "c202c79e",
   "metadata": {},
   "outputs": [
    {
     "name": "stdout",
     "output_type": "stream",
     "text": [
      "          A         B         C\n",
      "0  0.103812  0.468474  0.859287\n",
      "1  0.511680  0.204882  0.263489\n",
      "2  0.380236  0.131411  0.945151\n",
      "3  0.924199  0.438872  0.904389\n",
      "4  0.164734  0.077882  0.465917\n",
      "5  0.008583  0.418011  0.576375\n",
      "6  0.182624  0.384800  0.508343\n",
      "7  0.036670  0.735343  0.047704\n",
      "8  0.582828  0.480664  0.807208\n",
      "9  0.059456  0.987773  0.725639\n"
     ]
    }
   ],
   "source": [
    "print(df)"
   ]
  },
  {
   "cell_type": "code",
   "execution_count": 96,
   "id": "3e9034d9",
   "metadata": {},
   "outputs": [
    {
     "name": "stdout",
     "output_type": "stream",
     "text": [
      "          A         B         C\n",
      "0  0.103812  0.468474  0.859287\n",
      "4  0.164734  0.077882  0.465917\n"
     ]
    }
   ],
   "source": [
    "print(df.iloc[[0,4]])"
   ]
  },
  {
   "cell_type": "code",
   "execution_count": 99,
   "id": "827a5a90",
   "metadata": {},
   "outputs": [
    {
     "data": {
      "text/html": [
       "<div>\n",
       "<style scoped>\n",
       "    .dataframe tbody tr th:only-of-type {\n",
       "        vertical-align: middle;\n",
       "    }\n",
       "\n",
       "    .dataframe tbody tr th {\n",
       "        vertical-align: top;\n",
       "    }\n",
       "\n",
       "    .dataframe thead th {\n",
       "        text-align: right;\n",
       "    }\n",
       "</style>\n",
       "<table border=\"1\" class=\"dataframe\">\n",
       "  <thead>\n",
       "    <tr style=\"text-align: right;\">\n",
       "      <th></th>\n",
       "      <th>A</th>\n",
       "      <th>C</th>\n",
       "    </tr>\n",
       "  </thead>\n",
       "  <tbody>\n",
       "    <tr>\n",
       "      <th>0</th>\n",
       "      <td>0.103812</td>\n",
       "      <td>0.859287</td>\n",
       "    </tr>\n",
       "    <tr>\n",
       "      <th>1</th>\n",
       "      <td>0.511680</td>\n",
       "      <td>0.263489</td>\n",
       "    </tr>\n",
       "  </tbody>\n",
       "</table>\n",
       "</div>"
      ],
      "text/plain": [
       "          A         C\n",
       "0  0.103812  0.859287\n",
       "1  0.511680  0.263489"
      ]
     },
     "execution_count": 99,
     "metadata": {},
     "output_type": "execute_result"
    }
   ],
   "source": [
    "df.iloc[[0,1],[0,2]]"
   ]
  },
  {
   "cell_type": "code",
   "execution_count": 100,
   "id": "c9ba8839",
   "metadata": {},
   "outputs": [
    {
     "name": "stdout",
     "output_type": "stream",
     "text": [
      "          A         B     C\n",
      "0  0.103812  0.468474  None\n",
      "1  0.511680  0.204882  None\n",
      "2  0.380236  0.131411  None\n",
      "3  0.924199  0.438872  None\n",
      "4  0.164734  0.077882  None\n",
      "5  0.008583  0.418011  None\n",
      "6  0.182624  0.384800  None\n",
      "7  0.036670  0.735343  None\n",
      "8  0.582828  0.480664  None\n",
      "9  0.059456  0.987773  None\n"
     ]
    }
   ],
   "source": [
    "df[\"C\"]= None\n",
    "print(df)"
   ]
  },
  {
   "cell_type": "markdown",
   "id": "071adc3b",
   "metadata": {},
   "source": [
    "# dropna()"
   ]
  },
  {
   "cell_type": "code",
   "execution_count": 109,
   "id": "e9ccbc7b",
   "metadata": {},
   "outputs": [
    {
     "name": "stdout",
     "output_type": "stream",
     "text": [
      "       Name        Toy        Born\n",
      "0  Superman        NaN         NaN\n",
      "1    Batman  Batmobile  1940-04-25\n",
      "2  Catwoman        NaN         NaN\n"
     ]
    }
   ],
   "source": [
    "sh = pd.read_csv(\"superhero.csv\")\n",
    "print(sh)"
   ]
  },
  {
   "cell_type": "code",
   "execution_count": 110,
   "id": "694daa32",
   "metadata": {},
   "outputs": [
    {
     "name": "stdout",
     "output_type": "stream",
     "text": [
      "     Name        Toy        Born\n",
      "1  Batman  Batmobile  1940-04-25\n"
     ]
    }
   ],
   "source": [
    "print(sh.dropna())"
   ]
  },
  {
   "cell_type": "code",
   "execution_count": 111,
   "id": "646dff2e",
   "metadata": {},
   "outputs": [
    {
     "name": "stdout",
     "output_type": "stream",
     "text": [
      "       Name\n",
      "0  Superman\n",
      "1    Batman\n",
      "2  Catwoman\n"
     ]
    }
   ],
   "source": [
    "print(sh.dropna(axis = \"columns\"))"
   ]
  },
  {
   "cell_type": "code",
   "execution_count": 112,
   "id": "64e01843",
   "metadata": {},
   "outputs": [
    {
     "name": "stdout",
     "output_type": "stream",
     "text": [
      "       Name\n",
      "0  Superman\n",
      "1    Batman\n",
      "2  Catwoman\n"
     ]
    }
   ],
   "source": [
    "print(sh.dropna(axis = 1))"
   ]
  },
  {
   "cell_type": "code",
   "execution_count": 123,
   "id": "9409a7ab",
   "metadata": {},
   "outputs": [
    {
     "name": "stdout",
     "output_type": "stream",
     "text": [
      "     Name        Toy        Born\n",
      "1  Batman  Batmobile  1940-04-25\n"
     ]
    }
   ],
   "source": [
    "print(sh.dropna(axis = \"rows\"))"
   ]
  },
  {
   "cell_type": "code",
   "execution_count": 124,
   "id": "13f7d605",
   "metadata": {},
   "outputs": [
    {
     "name": "stdout",
     "output_type": "stream",
     "text": [
      "     Name        Toy        Born\n",
      "1  Batman  Batmobile  1940-04-25\n"
     ]
    }
   ],
   "source": [
    "print(sh.dropna(axis = 0))"
   ]
  },
  {
   "cell_type": "code",
   "execution_count": 125,
   "id": "242f6ef9",
   "metadata": {},
   "outputs": [
    {
     "name": "stdout",
     "output_type": "stream",
     "text": [
      "     Name        Toy        Born\n",
      "1  Batman  Batmobile  1940-04-25\n"
     ]
    }
   ],
   "source": [
    "print(sh.dropna())"
   ]
  },
  {
   "cell_type": "code",
   "execution_count": 126,
   "id": "2d916a7b",
   "metadata": {},
   "outputs": [],
   "source": [
    "sh.dropna(inplace =True)"
   ]
  },
  {
   "cell_type": "code",
   "execution_count": 127,
   "id": "d7491906",
   "metadata": {},
   "outputs": [
    {
     "data": {
      "text/html": [
       "<div>\n",
       "<style scoped>\n",
       "    .dataframe tbody tr th:only-of-type {\n",
       "        vertical-align: middle;\n",
       "    }\n",
       "\n",
       "    .dataframe tbody tr th {\n",
       "        vertical-align: top;\n",
       "    }\n",
       "\n",
       "    .dataframe thead th {\n",
       "        text-align: right;\n",
       "    }\n",
       "</style>\n",
       "<table border=\"1\" class=\"dataframe\">\n",
       "  <thead>\n",
       "    <tr style=\"text-align: right;\">\n",
       "      <th></th>\n",
       "      <th>Name</th>\n",
       "      <th>Toy</th>\n",
       "      <th>Born</th>\n",
       "    </tr>\n",
       "  </thead>\n",
       "  <tbody>\n",
       "    <tr>\n",
       "      <th>1</th>\n",
       "      <td>Batman</td>\n",
       "      <td>Batmobile</td>\n",
       "      <td>1940-04-25</td>\n",
       "    </tr>\n",
       "  </tbody>\n",
       "</table>\n",
       "</div>"
      ],
      "text/plain": [
       "     Name        Toy        Born\n",
       "1  Batman  Batmobile  1940-04-25"
      ]
     },
     "execution_count": 127,
     "metadata": {},
     "output_type": "execute_result"
    }
   ],
   "source": [
    "sh"
   ]
  },
  {
   "cell_type": "markdown",
   "id": "939e6575",
   "metadata": {},
   "source": [
    "# DROP DUPLICATE"
   ]
  },
  {
   "cell_type": "code",
   "execution_count": 132,
   "id": "80a90084",
   "metadata": {},
   "outputs": [
    {
     "name": "stdout",
     "output_type": "stream",
     "text": [
      "       Brand Style  Rating\n",
      "0      Kulfa   Cup     4.0\n",
      "1      Kulfa   Cup     4.0\n",
      "2    Praline  Pack     3.5\n",
      "3      Mango   Cup     4.5\n",
      "4      Mango   Cup     4.5\n",
      "5  Chocolate  Pack     4.0\n"
     ]
    }
   ],
   "source": [
    "iceshop = pd.read_csv(\"iceshop.csv\")\n",
    "print(iceshop)"
   ]
  },
  {
   "cell_type": "code",
   "execution_count": 135,
   "id": "bad5efe0",
   "metadata": {},
   "outputs": [
    {
     "name": "stdout",
     "output_type": "stream",
     "text": [
      "       Brand Style  Rating\n",
      "0      Kulfa   Cup     4.0\n",
      "2    Praline  Pack     3.5\n",
      "3      Mango   Cup     4.5\n",
      "5  Chocolate  Pack     4.0\n"
     ]
    }
   ],
   "source": [
    "print(iceshop.drop_duplicates())"
   ]
  },
  {
   "cell_type": "code",
   "execution_count": 137,
   "id": "e9b2f48a",
   "metadata": {},
   "outputs": [
    {
     "name": "stdout",
     "output_type": "stream",
     "text": [
      "       Brand Style  Rating\n",
      "0      Kulfa   Cup     4.0\n",
      "2    Praline  Pack     3.5\n",
      "3      Mango   Cup     4.5\n",
      "5  Chocolate  Pack     4.0\n"
     ]
    }
   ],
   "source": [
    "print(iceshop.drop_duplicates(subset =[\"Brand\"])) # remove duplicate from subset"
   ]
  },
  {
   "cell_type": "code",
   "execution_count": 141,
   "id": "e04ece17",
   "metadata": {},
   "outputs": [
    {
     "name": "stdout",
     "output_type": "stream",
     "text": [
      "     Brand Style  Rating\n",
      "0    Kulfa   Cup     4.0\n",
      "2  Praline  Pack     3.5\n"
     ]
    }
   ],
   "source": [
    "print(iceshop.drop_duplicates(subset =[\"Style\"]))"
   ]
  },
  {
   "cell_type": "code",
   "execution_count": 143,
   "id": "10305e8f",
   "metadata": {},
   "outputs": [
    {
     "name": "stdout",
     "output_type": "stream",
     "text": [
      "       Brand Style  Rating\n",
      "0      Kulfa   Cup     4.0\n",
      "2    Praline  Pack     3.5\n",
      "3      Mango   Cup     4.5\n",
      "5  Chocolate  Pack     4.0\n"
     ]
    }
   ],
   "source": [
    "iceshop.drop_duplicates(inplace = True)\n",
    "print(iceshop)"
   ]
  },
  {
   "cell_type": "code",
   "execution_count": 144,
   "id": "b704acfc",
   "metadata": {},
   "outputs": [
    {
     "data": {
      "text/html": [
       "<div>\n",
       "<style scoped>\n",
       "    .dataframe tbody tr th:only-of-type {\n",
       "        vertical-align: middle;\n",
       "    }\n",
       "\n",
       "    .dataframe tbody tr th {\n",
       "        vertical-align: top;\n",
       "    }\n",
       "\n",
       "    .dataframe thead th {\n",
       "        text-align: right;\n",
       "    }\n",
       "</style>\n",
       "<table border=\"1\" class=\"dataframe\">\n",
       "  <thead>\n",
       "    <tr style=\"text-align: right;\">\n",
       "      <th></th>\n",
       "      <th>Brand</th>\n",
       "      <th>Style</th>\n",
       "      <th>Rating</th>\n",
       "    </tr>\n",
       "  </thead>\n",
       "  <tbody>\n",
       "    <tr>\n",
       "      <th>0</th>\n",
       "      <td>Kulfa</td>\n",
       "      <td>Cup</td>\n",
       "      <td>4.0</td>\n",
       "    </tr>\n",
       "    <tr>\n",
       "      <th>2</th>\n",
       "      <td>Praline</td>\n",
       "      <td>Pack</td>\n",
       "      <td>3.5</td>\n",
       "    </tr>\n",
       "    <tr>\n",
       "      <th>3</th>\n",
       "      <td>Mango</td>\n",
       "      <td>Cup</td>\n",
       "      <td>4.5</td>\n",
       "    </tr>\n",
       "    <tr>\n",
       "      <th>5</th>\n",
       "      <td>Chocolate</td>\n",
       "      <td>Pack</td>\n",
       "      <td>4.0</td>\n",
       "    </tr>\n",
       "  </tbody>\n",
       "</table>\n",
       "</div>"
      ],
      "text/plain": [
       "       Brand Style  Rating\n",
       "0      Kulfa   Cup     4.0\n",
       "2    Praline  Pack     3.5\n",
       "3      Mango   Cup     4.5\n",
       "5  Chocolate  Pack     4.0"
      ]
     },
     "execution_count": 144,
     "metadata": {},
     "output_type": "execute_result"
    }
   ],
   "source": [
    "iceshop"
   ]
  },
  {
   "cell_type": "markdown",
   "id": "10ca00ba",
   "metadata": {},
   "source": [
    "# SHAPE"
   ]
  },
  {
   "cell_type": "code",
   "execution_count": 146,
   "id": "d2836260",
   "metadata": {},
   "outputs": [
    {
     "name": "stdout",
     "output_type": "stream",
     "text": [
      "(4, 3)\n"
     ]
    }
   ],
   "source": [
    "print(iceshop.shape)"
   ]
  },
  {
   "cell_type": "markdown",
   "id": "a9ad8f94",
   "metadata": {},
   "source": [
    "# INFO"
   ]
  },
  {
   "cell_type": "code",
   "execution_count": 147,
   "id": "ae45ce93",
   "metadata": {},
   "outputs": [
    {
     "name": "stdout",
     "output_type": "stream",
     "text": [
      "<class 'pandas.core.frame.DataFrame'>\n",
      "Int64Index: 4 entries, 0 to 5\n",
      "Data columns (total 3 columns):\n",
      " #   Column  Non-Null Count  Dtype  \n",
      "---  ------  --------------  -----  \n",
      " 0   Brand   4 non-null      object \n",
      " 1   Style   4 non-null      object \n",
      " 2   Rating  4 non-null      float64\n",
      "dtypes: float64(1), object(2)\n",
      "memory usage: 128.0+ bytes\n"
     ]
    }
   ],
   "source": [
    "iceshop.info()"
   ]
  },
  {
   "cell_type": "code",
   "execution_count": null,
   "id": "c240afdf",
   "metadata": {},
   "outputs": [],
   "source": []
  }
 ],
 "metadata": {
  "kernelspec": {
   "display_name": "Python 3 (ipykernel)",
   "language": "python",
   "name": "python3"
  },
  "language_info": {
   "codemirror_mode": {
    "name": "ipython",
    "version": 3
   },
   "file_extension": ".py",
   "mimetype": "text/x-python",
   "name": "python",
   "nbconvert_exporter": "python",
   "pygments_lexer": "ipython3",
   "version": "3.11.7"
  }
 },
 "nbformat": 4,
 "nbformat_minor": 5
}
