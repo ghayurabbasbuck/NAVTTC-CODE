{
 "cells": [
  {
   "cell_type": "markdown",
   "id": "87ab399d",
   "metadata": {},
   "source": [
    "# ========== WEAK I ========="
   ]
  },
  {
   "cell_type": "markdown",
   "id": "da0dcbea",
   "metadata": {},
   "source": [
    "# ==== DAY 1 ====="
   ]
  },
  {
   "cell_type": "code",
   "execution_count": 15,
   "id": "f06c28dd",
   "metadata": {},
   "outputs": [
    {
     "name": "stdout",
     "output_type": "stream",
     "text": [
      "Ghayur\tAbbas             \n",
      "Ghayur\tAbbas             \n",
      "18\n",
      "True\n"
     ]
    }
   ],
   "source": [
    "name = \"           Ghayur\\tAbbas             \"\n",
    "age = 18\n",
    "ghayur_is_genious = True\n",
    "print(name)\n",
    "print(name.lstrip())\n",
    "print(age)\n",
    "print(ghayur_is_genious)"
   ]
  },
  {
   "cell_type": "code",
   "execution_count": null,
   "id": "3a5dfd48-73ae-4b30-8ca0-06e56e72f23b",
   "metadata": {},
   "outputs": [],
   "source": []
  },
  {
   "cell_type": "code",
   "execution_count": 7,
   "id": "5baafb76",
   "metadata": {},
   "outputs": [
    {
     "name": "stdout",
     "output_type": "stream",
     "text": [
      "True\n"
     ]
    }
   ],
   "source": [
    "# #####========== WEAK I =========\n",
    "usman_is_genious = True\n",
    "print(usman_is_genious)"
   ]
  },
  {
   "cell_type": "code",
   "execution_count": 3,
   "id": "b8dcfe07",
   "metadata": {},
   "outputs": [
    {
     "name": "stdout",
     "output_type": "stream",
     "text": [
      "ghayur is genious\n"
     ]
    }
   ],
   "source": [
    "if age >= 18:\n",
    "    print(\"ghayur is genious\")\n",
    "else:\n",
    "    print(\"ghayur is not genious\")"
   ]
  },
  {
   "cell_type": "code",
   "execution_count": 1,
   "id": "07d9bff3",
   "metadata": {},
   "outputs": [
    {
     "name": "stdin",
     "output_type": "stream",
     "text": [
      "enter your age  15\n"
     ]
    },
    {
     "name": "stdout",
     "output_type": "stream",
     "text": [
      "you are not genious\n"
     ]
    }
   ],
   "source": [
    "age = int(input(\"enter your age \"))\n",
    "if age >=18:\n",
    "    print(\"you are genious\")\n",
    "elif age > 15 & age < 17:\n",
    "    print(\"you are normal\")\n",
    "else:\n",
    "    print(\"you are not genious\")"
   ]
  },
  {
   "cell_type": "code",
   "execution_count": null,
   "id": "e38f7f54",
   "metadata": {},
   "outputs": [],
   "source": []
  },
  {
   "cell_type": "markdown",
   "id": "a49acf3a",
   "metadata": {},
   "source": [
    "# =========== DAY 2 =========="
   ]
  },
  {
   "cell_type": "markdown",
   "id": "39246ef4",
   "metadata": {},
   "source": [
    "#    input function"
   ]
  },
  {
   "cell_type": "code",
   "execution_count": 2,
   "id": "767db997",
   "metadata": {},
   "outputs": [
    {
     "name": "stdout",
     "output_type": "stream",
     "text": [
      "enter you nameghayur\n",
      "ghayur\n",
      "what is your nameghayur\n",
      "ghayur\n"
     ]
    }
   ],
   "source": [
    "print(input(\"enter you name\"))\n",
    "\n",
    "\n",
    "name = str(input(\"what is your name\"))\n",
    "print(name)"
   ]
  },
  {
   "cell_type": "markdown",
   "id": "6a78b881",
   "metadata": {},
   "source": [
    "# Task"
   ]
  },
  {
   "cell_type": "code",
   "execution_count": 6,
   "id": "1ddeb79e",
   "metadata": {},
   "outputs": [
    {
     "name": "stdout",
     "output_type": "stream",
     "text": [
      "ghayur is a super hero\n",
      "ghayur who is your super hero: amir khan\n"
     ]
    },
    {
     "data": {
      "text/plain": [
       "'amir khan'"
      ]
     },
     "execution_count": 6,
     "metadata": {},
     "output_type": "execute_result"
    }
   ],
   "source": [
    "# ghayur is a super hero ask ghayur for his super hero\n",
    "designation = \"ghayur is a super hero\"\n",
    "print(designation)\n",
    "ghayur_hero = input(\"ghayur who is your super hero: \")\n",
    "ghayur_hero\n",
    "#print(ghayur_hero)"
   ]
  },
  {
   "cell_type": "code",
   "execution_count": 1,
   "id": "f4031898",
   "metadata": {},
   "outputs": [
    {
     "name": "stdout",
     "output_type": "stream",
     "text": [
      "enter your  age5\n",
      "10\n"
     ]
    }
   ],
   "source": [
    "#  type conversion\n",
    "old_age=input(\"enter your  age\")\n",
    "new_age = int(old_age)+5\n",
    "print(new_age)"
   ]
  },
  {
   "cell_type": "code",
   "execution_count": 10,
   "id": "5f634172",
   "metadata": {},
   "outputs": [
    {
     "name": "stdout",
     "output_type": "stream",
     "text": [
      "enter 1st number34\n",
      "enter 2nd number654\n",
      "total 688\n"
     ]
    }
   ],
   "source": [
    "# sum of two number\n",
    "num1 = int(input(\"enter 1st number\"))\n",
    "num2 = int(input(\"enter 2nd number\"))\n",
    "sum = num1 + num2\n",
    "print(\"total\",sum)"
   ]
  },
  {
   "cell_type": "markdown",
   "id": "c008eaaf",
   "metadata": {},
   "source": [
    "# string method"
   ]
  },
  {
   "cell_type": "code",
   "execution_count": 17,
   "id": "fa6b9b46",
   "metadata": {},
   "outputs": [
    {
     "name": "stdout",
     "output_type": "stream",
     "text": [
      "ghayur abbas\n",
      "GHAYUR ABBAS\n",
      "ghayur abbas\n",
      "Ghayur Abbas\n",
      "5\n"
     ]
    }
   ],
   "source": [
    "a = \"ghayur abbas\"\n",
    "print(a)\n",
    "print(a.upper())\n",
    "print(a.lower())\n",
    "print(a.title())\n",
    "print(a.find('r'))"
   ]
  },
  {
   "cell_type": "markdown",
   "id": "1b33ff15",
   "metadata": {},
   "source": [
    "# ======= DAY 3 ========="
   ]
  },
  {
   "cell_type": "code",
   "execution_count": null,
   "id": "594c6d76",
   "metadata": {},
   "outputs": [],
   "source": [
    "age = 2\n",
    "if age >= 18:\n",
    "    print(\"you are adult\")\n",
    "    print(\"you can vote\")\n",
    "elif age<=16 and age>=3:\n",
    "    print(\"you are in school\")\n",
    "else:\n",
    "    print(\"i am awesome\")"
   ]
  },
  {
   "cell_type": "code",
   "execution_count": 4,
   "id": "d5c79ef2",
   "metadata": {},
   "outputs": [
    {
     "name": "stdout",
     "output_type": "stream",
     "text": [
      "enter first number4\n",
      "enter operator(+,-,*,/)%\n",
      "enter second number3\n",
      "1\n"
     ]
    }
   ],
   "source": [
    "x = int(input(\"enter first number\"))\n",
    "operator = input(\"enter operator(+,-,*,/,%)\")\n",
    "y = int(input(\"enter second number\"))\n",
    "if operator == \"+\":\n",
    "    print(x+y)\n",
    "elif operator == \"-\":\n",
    "    print(x-y)\n",
    "elif operator == \"*\":\n",
    "    print(x*y)\n",
    "elif operator == \"/\":\n",
    "    print(x/y)\n",
    "elif operator == \"%\":\n",
    "    print(x%y)\n",
    "else:\n",
    "    print(\"invalid operator\")"
   ]
  },
  {
   "cell_type": "code",
   "execution_count": 3,
   "id": "ed5eb359",
   "metadata": {},
   "outputs": [
    {
     "name": "stdout",
     "output_type": "stream",
     "text": [
      "1\n",
      "2\n",
      "3\n",
      "4\n",
      "5\n"
     ]
    }
   ],
   "source": [
    "i = 1\n",
    "while i<=5:\n",
    "    print(i)\n",
    "    i+=1\n"
   ]
  },
  {
   "cell_type": "code",
   "execution_count": 3,
   "id": "89f86652",
   "metadata": {},
   "outputs": [
    {
     "data": {
      "text/plain": [
       "range(0, 5)"
      ]
     },
     "execution_count": 3,
     "metadata": {},
     "output_type": "execute_result"
    }
   ],
   "source": [
    "range(5)"
   ]
  },
  {
   "cell_type": "code",
   "execution_count": 9,
   "id": "de6be822",
   "metadata": {},
   "outputs": [
    {
     "name": "stdout",
     "output_type": "stream",
     "text": [
      "0\n",
      "1\n",
      "2\n",
      "3\n",
      "4\n"
     ]
    }
   ],
   "source": [
    "for i in range(5):\n",
    "    print(i)"
   ]
  },
  {
   "cell_type": "code",
   "execution_count": 10,
   "id": "ada8734c",
   "metadata": {},
   "outputs": [
    {
     "name": "stdout",
     "output_type": "stream",
     "text": [
      "range(0, 5)\n"
     ]
    }
   ],
   "source": [
    "n = range(5)\n",
    "print(n)"
   ]
  },
  {
   "cell_type": "code",
   "execution_count": 4,
   "id": "2420c60b",
   "metadata": {},
   "outputs": [
    {
     "name": "stdout",
     "output_type": "stream",
     "text": [
      "*\n",
      "**\n",
      "***\n",
      "****\n",
      "*****\n"
     ]
    }
   ],
   "source": [
    "i = 1\n",
    "while i<=5:\n",
    "    print(i*\"*\")\n",
    "    i+=1"
   ]
  },
  {
   "cell_type": "code",
   "execution_count": 2,
   "id": "78eb7759",
   "metadata": {},
   "outputs": [
    {
     "name": "stdout",
     "output_type": "stream",
     "text": [
      "*****\n",
      "****\n",
      "***\n",
      "**\n",
      "*\n"
     ]
    }
   ],
   "source": [
    "i = 5\n",
    "while i>=1:\n",
    "    print(i*\"*\")\n",
    "    i=i-1"
   ]
  },
  {
   "cell_type": "code",
   "execution_count": 6,
   "id": "ce135e9b",
   "metadata": {},
   "outputs": [
    {
     "name": "stdout",
     "output_type": "stream",
     "text": [
      "enter your marks:69\n",
      "C\n"
     ]
    }
   ],
   "source": [
    "marks = int(input(\"enter your marks:\"))\n",
    "if marks >=80 and marks<=100:\n",
    "    print(\"A\")\n",
    "elif marks >=70 and marks<=79:\n",
    "    print(\"B\")\n",
    "elif marks >=60 and marks<=69:\n",
    "    print(\"C\")\n",
    "elif marks >=50 and marks<=59:\n",
    "    print(\"D\")\n",
    "else:\n",
    "    print(\"you are failed\")"
   ]
  },
  {
   "cell_type": "code",
   "execution_count": 6,
   "id": "744ccbb1",
   "metadata": {},
   "outputs": [
    {
     "name": "stdout",
     "output_type": "stream",
     "text": [
      "enter first number6\n",
      "enter operator(+,-,*,/,%)*\n",
      "enter second number5\n",
      "result: 30\n"
     ]
    }
   ],
   "source": [
    "x = int(input(\"enter first number\"))\n",
    "operator = input(\"enter operator(+,-,*,/,%)\")\n",
    "y = int(input(\"enter second number\"))\n",
    "result = {\n",
    "    \"+\":x+y,\n",
    "    \"-\":x-y,\n",
    "    \"*\":x*y,\n",
    "    \"/\":x/y,\n",
    "    \"%\":x%y,\n",
    "}\n",
    "print(\"result:\",result[operator])"
   ]
  },
  {
   "cell_type": "code",
   "execution_count": null,
   "id": "12fe8558",
   "metadata": {},
   "outputs": [],
   "source": []
  },
  {
   "cell_type": "code",
   "execution_count": null,
   "id": "4d3aa497",
   "metadata": {},
   "outputs": [],
   "source": []
  }
 ],
 "metadata": {
  "kernelspec": {
   "display_name": "Python 3 (ipykernel)",
   "language": "python",
   "name": "python3"
  },
  "language_info": {
   "codemirror_mode": {
    "name": "ipython",
    "version": 3
   },
   "file_extension": ".py",
   "mimetype": "text/x-python",
   "name": "python",
   "nbconvert_exporter": "python",
   "pygments_lexer": "ipython3",
   "version": "3.11.7"
  }
 },
 "nbformat": 4,
 "nbformat_minor": 5
}
